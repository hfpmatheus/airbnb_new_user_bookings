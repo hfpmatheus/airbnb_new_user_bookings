{
 "cells": [
  {
   "cell_type": "markdown",
   "id": "8f3209af",
   "metadata": {},
   "source": [
    "# 0.0. IMPORTS"
   ]
  },
  {
   "cell_type": "code",
   "execution_count": 1,
   "id": "0f2a9bc6",
   "metadata": {
    "ExecuteTime": {
     "end_time": "2022-04-08T22:44:28.181770Z",
     "start_time": "2022-04-08T22:44:24.040251Z"
    }
   },
   "outputs": [],
   "source": [
    "import pandas  as pd\n",
    "import seaborn as sns\n",
    "\n",
    "from sklearn    import model_selection as ms\n",
    "from sklearn    import preprocessing   as pp\n",
    "from sklearn    import metrics         as m\n",
    "from scikitplot import metrics         as mt\n",
    "from keras      import models          as ml\n",
    "from keras      import layers          as l"
   ]
  },
  {
   "cell_type": "markdown",
   "id": "ea9abeeb",
   "metadata": {},
   "source": [
    "## 0.1. Aux Functions"
   ]
  },
  {
   "cell_type": "code",
   "execution_count": 2,
   "id": "8d66f44d",
   "metadata": {
    "ExecuteTime": {
     "end_time": "2022-04-08T22:44:28.213586Z",
     "start_time": "2022-04-08T22:44:28.185718Z"
    }
   },
   "outputs": [
    {
     "name": "stdout",
     "output_type": "stream",
     "text": [
      "%pylab is deprecated, use %matplotlib inline and import the required libraries.\n",
      "Populating the interactive namespace from numpy and matplotlib\n"
     ]
    }
   ],
   "source": [
    "# jupyter design\n",
    "def jupyter_settings():\n",
    "    %matplotlib inline\n",
    "    %pylab inline\n",
    "    %config InlineBackend.figure_format = 'retina'\n",
    "\n",
    "    plt.style.use('ggplot')\n",
    "    plt.rcParams['figure.figsize'] = [16, 8]\n",
    "    plt.rcParams['font.size'] = 24\n",
    "\n",
    "#     display(HTML('<style>.container { width:100% !important; }</style>'))\n",
    "#     pd.options.display.max_columns = None\n",
    "#     pd.options.display.max_rows = None\n",
    "#     pd.options.display.float_format = '{:,.4f}'.format\n",
    "#     pd.set_option('display.expand_frame_repr', False)\n",
    "#     pd.set_option('display.max_columns', None)\n",
    "#     pd.set_option('display.max_rows', None)\n",
    "\n",
    "    sns.set()\n",
    "    \n",
    "jupyter_settings()"
   ]
  },
  {
   "cell_type": "markdown",
   "id": "876addc3",
   "metadata": {},
   "source": [
    "## 0.2. Reading Data"
   ]
  },
  {
   "cell_type": "code",
   "execution_count": 3,
   "id": "d13bce40",
   "metadata": {
    "ExecuteTime": {
     "end_time": "2022-04-08T22:44:28.623781Z",
     "start_time": "2022-04-08T22:44:28.214585Z"
    }
   },
   "outputs": [],
   "source": [
    "df_raw = pd.read_csv( \"../datasets/train_users_2.csv\" )"
   ]
  },
  {
   "cell_type": "markdown",
   "id": "9ec99871",
   "metadata": {},
   "source": [
    "# 1.0. DATA DESCRIPTION"
   ]
  },
  {
   "cell_type": "code",
   "execution_count": 4,
   "id": "87458d79",
   "metadata": {
    "ExecuteTime": {
     "end_time": "2022-04-08T22:44:28.655827Z",
     "start_time": "2022-04-08T22:44:28.627804Z"
    }
   },
   "outputs": [],
   "source": [
    "df1 = df_raw.copy()"
   ]
  },
  {
   "cell_type": "markdown",
   "id": "ea99d2b6",
   "metadata": {},
   "source": [
    "## 1.1. Columns Descriptions"
   ]
  },
  {
   "cell_type": "code",
   "execution_count": 5,
   "id": "d40cb9e2",
   "metadata": {
    "ExecuteTime": {
     "end_time": "2022-04-08T22:44:28.671651Z",
     "start_time": "2022-04-08T22:44:28.658687Z"
    }
   },
   "outputs": [
    {
     "data": {
      "text/plain": [
       "Index(['id', 'date_account_created', 'timestamp_first_active',\n",
       "       'date_first_booking', 'gender', 'age', 'signup_method', 'signup_flow',\n",
       "       'language', 'affiliate_channel', 'affiliate_provider',\n",
       "       'first_affiliate_tracked', 'signup_app', 'first_device_type',\n",
       "       'first_browser', 'country_destination'],\n",
       "      dtype='object')"
      ]
     },
     "execution_count": 5,
     "metadata": {},
     "output_type": "execute_result"
    }
   ],
   "source": [
    "df1.columns"
   ]
  },
  {
   "cell_type": "markdown",
   "id": "2cb1ae61",
   "metadata": {},
   "source": [
    "- **id:** user id\n",
    "\n",
    "- **date_account_created:** the date of account creation\n",
    "\n",
    "- **timestamp_first_active:** timestamp of the first activity, note that it can be earlier than date_account_created or -date_first_booking because a user can search before signing up\n",
    "\n",
    "- **date_first_booking: date of first booking**\n",
    "\n",
    "- **gender**\n",
    "\n",
    "- **age**\n",
    "\n",
    "- **signup_method**\n",
    "\n",
    "- **signup_flow:** the page a user came to signup up from\n",
    "\n",
    "- **language:** international language preference\n",
    "\n",
    "- **affiliate_channel:** what kind of paid marketing\n",
    "\n",
    "- **affiliate_provider:** where the marketing is e.g. google, craigslist, other\n",
    "\n",
    "- **first_affiliate_tracked:** whats the first marketing the user interacted with before the signing up\n",
    "\n",
    "- **signup_app**\n",
    "\n",
    "- **first_device_type**\n",
    "\n",
    "- **first_browser**\n",
    "\n",
    "- **country_destination:** this is the target variable you are to predict"
   ]
  },
  {
   "cell_type": "markdown",
   "id": "ac715231",
   "metadata": {},
   "source": [
    "### 1.1.1. Rename Columns"
   ]
  },
  {
   "cell_type": "markdown",
   "id": "e1eab8cc",
   "metadata": {},
   "source": [
    "No need, they're already on snakecase."
   ]
  },
  {
   "cell_type": "markdown",
   "id": "956821a5",
   "metadata": {
    "ExecuteTime": {
     "end_time": "2022-04-07T21:54:31.007623Z",
     "start_time": "2022-04-07T21:54:30.995975Z"
    }
   },
   "source": [
    "## 1.2. Data Dimensions"
   ]
  },
  {
   "cell_type": "code",
   "execution_count": 6,
   "id": "a6a0a1db",
   "metadata": {
    "ExecuteTime": {
     "end_time": "2022-04-08T22:44:28.687737Z",
     "start_time": "2022-04-08T22:44:28.674644Z"
    }
   },
   "outputs": [
    {
     "name": "stdout",
     "output_type": "stream",
     "text": [
      "Number of rows: 213451\n",
      "Number of columns: 16\n"
     ]
    }
   ],
   "source": [
    "print( 'Number of rows: {}'.format( df1.shape[0] ) )\n",
    "print( 'Number of columns: {}'.format( df1.shape[1] ) )"
   ]
  },
  {
   "cell_type": "markdown",
   "id": "80ca16c4",
   "metadata": {},
   "source": [
    "## 1.3. NA Check"
   ]
  },
  {
   "cell_type": "code",
   "execution_count": 7,
   "id": "f090df9a",
   "metadata": {
    "ExecuteTime": {
     "end_time": "2022-04-08T22:44:28.989008Z",
     "start_time": "2022-04-08T22:44:28.688607Z"
    }
   },
   "outputs": [
    {
     "data": {
      "text/plain": [
       "id                              0\n",
       "date_account_created            0\n",
       "timestamp_first_active          0\n",
       "date_first_booking         124543\n",
       "gender                          0\n",
       "age                         87990\n",
       "signup_method                   0\n",
       "signup_flow                     0\n",
       "language                        0\n",
       "affiliate_channel               0\n",
       "affiliate_provider              0\n",
       "first_affiliate_tracked      6065\n",
       "signup_app                      0\n",
       "first_device_type               0\n",
       "first_browser                   0\n",
       "country_destination             0\n",
       "dtype: int64"
      ]
     },
     "execution_count": 7,
     "metadata": {},
     "output_type": "execute_result"
    }
   ],
   "source": [
    "df1.isna().sum()"
   ]
  },
  {
   "cell_type": "markdown",
   "id": "342ccb54",
   "metadata": {},
   "source": [
    "### 1.3.1. NA Fulfill"
   ]
  },
  {
   "cell_type": "code",
   "execution_count": 8,
   "id": "cf3f4522",
   "metadata": {
    "ExecuteTime": {
     "end_time": "2022-04-08T22:44:29.321586Z",
     "start_time": "2022-04-08T22:44:28.990383Z"
    }
   },
   "outputs": [],
   "source": [
    "df1 = df1.dropna()"
   ]
  },
  {
   "cell_type": "markdown",
   "id": "0bafdb7f",
   "metadata": {},
   "source": [
    "## 1.4. Data Types"
   ]
  },
  {
   "cell_type": "code",
   "execution_count": 9,
   "id": "4c42e7fb",
   "metadata": {
    "ExecuteTime": {
     "end_time": "2022-04-08T22:44:29.337008Z",
     "start_time": "2022-04-08T22:44:29.323496Z"
    },
    "scrolled": true
   },
   "outputs": [
    {
     "data": {
      "text/plain": [
       "id                          object\n",
       "date_account_created        object\n",
       "timestamp_first_active       int64\n",
       "date_first_booking          object\n",
       "gender                      object\n",
       "age                        float64\n",
       "signup_method               object\n",
       "signup_flow                  int64\n",
       "language                    object\n",
       "affiliate_channel           object\n",
       "affiliate_provider          object\n",
       "first_affiliate_tracked     object\n",
       "signup_app                  object\n",
       "first_device_type           object\n",
       "first_browser               object\n",
       "country_destination         object\n",
       "dtype: object"
      ]
     },
     "execution_count": 9,
     "metadata": {},
     "output_type": "execute_result"
    }
   ],
   "source": [
    "df1.dtypes"
   ]
  },
  {
   "cell_type": "markdown",
   "id": "da58965a",
   "metadata": {},
   "source": [
    "### 1.4.1. Change types"
   ]
  },
  {
   "cell_type": "code",
   "execution_count": 10,
   "id": "df3dccdb",
   "metadata": {
    "ExecuteTime": {
     "end_time": "2022-04-08T22:44:29.400781Z",
     "start_time": "2022-04-08T22:44:29.337971Z"
    }
   },
   "outputs": [],
   "source": [
    "# date account created - datetime\n",
    "df1['date_account_created'] = pd.to_datetime( df1['date_account_created'] )\n",
    "\n",
    "# timestamp first active - datetime\n",
    "df1['timestamp_first_active'] = pd.to_datetime( df1['timestamp_first_active'], format=( '%Y-%m-%d %H:%M:%S' ) )\n",
    "\n",
    "# date first booking - datetime\n",
    "df1['date_first_booking'] = pd.to_datetime( df1['date_first_booking'] )\n",
    "\n",
    "# age - int\n",
    "df1['age'] = df1['age'].astype( 'int64' )"
   ]
  },
  {
   "cell_type": "markdown",
   "id": "c159b7e7",
   "metadata": {},
   "source": [
    "## 1.5. Data Proportion"
   ]
  },
  {
   "cell_type": "code",
   "execution_count": 11,
   "id": "466c5dc3",
   "metadata": {
    "ExecuteTime": {
     "end_time": "2022-04-08T22:44:29.416771Z",
     "start_time": "2022-04-08T22:44:29.401779Z"
    }
   },
   "outputs": [
    {
     "data": {
      "text/plain": [
       "US       0.708864\n",
       "other    0.110854\n",
       "FR       0.054085\n",
       "IT       0.029763\n",
       "GB       0.025935\n",
       "ES       0.024864\n",
       "CA       0.015696\n",
       "DE       0.012454\n",
       "NL       0.008801\n",
       "AU       0.006366\n",
       "PT       0.002318\n",
       "Name: country_destination, dtype: float64"
      ]
     },
     "execution_count": 11,
     "metadata": {},
     "output_type": "execute_result"
    }
   ],
   "source": [
    "df1['country_destination'].value_counts( normalize=True )"
   ]
  },
  {
   "cell_type": "markdown",
   "id": "ba9fe811",
   "metadata": {},
   "source": [
    "We clearly have Imbalanced Data, wich will affect the models."
   ]
  },
  {
   "cell_type": "markdown",
   "id": "20835490",
   "metadata": {},
   "source": [
    "## 1.6. Descriptive Statistics"
   ]
  },
  {
   "cell_type": "code",
   "execution_count": null,
   "id": "fc2acc32",
   "metadata": {},
   "outputs": [],
   "source": []
  },
  {
   "cell_type": "markdown",
   "id": "8b5c7a19",
   "metadata": {},
   "source": [
    "### 1.6.1. Numerical Attributes"
   ]
  },
  {
   "cell_type": "code",
   "execution_count": null,
   "id": "b65d4067",
   "metadata": {},
   "outputs": [],
   "source": []
  },
  {
   "cell_type": "markdown",
   "id": "9a1b061d",
   "metadata": {},
   "source": [
    "### 1.6.2. Categorical Attributes"
   ]
  },
  {
   "cell_type": "code",
   "execution_count": null,
   "id": "fcbad7ea",
   "metadata": {},
   "outputs": [],
   "source": []
  },
  {
   "cell_type": "markdown",
   "id": "8dd4b3c1",
   "metadata": {},
   "source": [
    "# 2.0. DATA FILTERING"
   ]
  },
  {
   "cell_type": "code",
   "execution_count": 12,
   "id": "bf3b7038",
   "metadata": {
    "ExecuteTime": {
     "end_time": "2022-04-08T22:44:31.067674Z",
     "start_time": "2022-04-08T22:44:31.043704Z"
    }
   },
   "outputs": [],
   "source": [
    "df2 = df1.copy()"
   ]
  },
  {
   "cell_type": "markdown",
   "id": "97b17ae9",
   "metadata": {},
   "source": [
    "# 3.0. FEATURE ENGINEERING"
   ]
  },
  {
   "cell_type": "code",
   "execution_count": 13,
   "id": "b1551f7d",
   "metadata": {
    "ExecuteTime": {
     "end_time": "2022-04-08T22:44:32.428601Z",
     "start_time": "2022-04-08T22:44:32.404624Z"
    }
   },
   "outputs": [],
   "source": [
    "df3 = df2.copy()"
   ]
  },
  {
   "cell_type": "markdown",
   "id": "52e7ca32",
   "metadata": {},
   "source": [
    "# 4.0. EXPLORATORY DATA ANALYSIS"
   ]
  },
  {
   "cell_type": "code",
   "execution_count": 14,
   "id": "0358c4bd",
   "metadata": {
    "ExecuteTime": {
     "end_time": "2022-04-08T22:44:33.348861Z",
     "start_time": "2022-04-08T22:44:33.323786Z"
    }
   },
   "outputs": [],
   "source": [
    "df4 = df1.copy()"
   ]
  },
  {
   "cell_type": "markdown",
   "id": "a76c808a",
   "metadata": {},
   "source": [
    "# 5.0. DATA PREPARATION"
   ]
  },
  {
   "cell_type": "code",
   "execution_count": 15,
   "id": "5629f537",
   "metadata": {
    "ExecuteTime": {
     "end_time": "2022-04-08T22:44:34.487893Z",
     "start_time": "2022-04-08T22:44:34.382756Z"
    }
   },
   "outputs": [],
   "source": [
    "df5 = df4.drop( columns=['date_account_created','timestamp_first_active','date_first_booking'] )\n",
    "\n",
    "df5_dummies = pd.get_dummies( df5.drop( columns=['id','country_destination'] ) )\n",
    "df5 = pd.concat( [ df5[['id','country_destination']], df5_dummies ], axis=1 )"
   ]
  },
  {
   "cell_type": "markdown",
   "id": "f71a5cfa",
   "metadata": {},
   "source": [
    "# 6.0. FEATURE SELECTION"
   ]
  },
  {
   "cell_type": "code",
   "execution_count": 16,
   "id": "ff1af643",
   "metadata": {
    "ExecuteTime": {
     "end_time": "2022-04-08T22:44:35.646745Z",
     "start_time": "2022-04-08T22:44:35.620784Z"
    }
   },
   "outputs": [],
   "source": [
    "df6 = df5.copy()"
   ]
  },
  {
   "cell_type": "markdown",
   "id": "e6bd8e88",
   "metadata": {},
   "source": [
    "# 7.0. MACHINE LEARNING"
   ]
  },
  {
   "cell_type": "code",
   "execution_count": 17,
   "id": "e52103d1",
   "metadata": {
    "ExecuteTime": {
     "end_time": "2022-04-08T22:44:36.757882Z",
     "start_time": "2022-04-08T22:44:36.699853Z"
    }
   },
   "outputs": [],
   "source": [
    "X = df6.drop( columns=['id','country_destination'] )\n",
    "Y = df6['country_destination'].copy()\n",
    "\n",
    "x_train, x_val, y_train, y_val = ms.train_test_split( X, Y, test_size=0.2, random_state=42 )"
   ]
  },
  {
   "cell_type": "markdown",
   "id": "ed6e2aba",
   "metadata": {},
   "source": [
    "## 7.1. Neural Network - MLP"
   ]
  },
  {
   "cell_type": "code",
   "execution_count": 18,
   "id": "5a24bbe5",
   "metadata": {
    "ExecuteTime": {
     "end_time": "2022-04-08T22:44:39.412529Z",
     "start_time": "2022-04-08T22:44:39.388176Z"
    }
   },
   "outputs": [],
   "source": [
    "# y train preparation\n",
    "ohe = pp.OneHotEncoder()\n",
    "y_train_nn = ohe.fit_transform( y_train.values.reshape( -1, 1 ) ).toarray()"
   ]
  },
  {
   "cell_type": "code",
   "execution_count": 19,
   "id": "1ee654f5",
   "metadata": {
    "ExecuteTime": {
     "end_time": "2022-04-08T22:48:10.014367Z",
     "start_time": "2022-04-08T22:44:39.862136Z"
    }
   },
   "outputs": [
    {
     "name": "stdout",
     "output_type": "stream",
     "text": [
      "Epoch 1/100\n",
      "1705/1705 [==============================] - 2s 849us/step - loss: 1.3304 - accuracy: 0.7062\n",
      "Epoch 2/100\n",
      "1705/1705 [==============================] - 1s 836us/step - loss: 1.3064 - accuracy: 0.7059\n",
      "Epoch 3/100\n",
      "1705/1705 [==============================] - 1s 842us/step - loss: 1.2695 - accuracy: 0.7058\n",
      "Epoch 4/100\n",
      "1705/1705 [==============================] - 1s 849us/step - loss: 1.2299 - accuracy: 0.7066\n",
      "Epoch 5/100\n",
      "1705/1705 [==============================] - 1s 863us/step - loss: 1.2046 - accuracy: 0.7069\n",
      "Epoch 6/100\n",
      "1705/1705 [==============================] - 2s 890us/step - loss: 1.1815 - accuracy: 0.7071\n",
      "Epoch 7/100\n",
      "1705/1705 [==============================] - 1s 872us/step - loss: 1.1703 - accuracy: 0.7069\n",
      "Epoch 8/100\n",
      "1705/1705 [==============================] - 2s 946us/step - loss: 1.1616 - accuracy: 0.7072\n",
      "Epoch 9/100\n",
      "1705/1705 [==============================] - 1s 865us/step - loss: 1.1512 - accuracy: 0.7073\n",
      "Epoch 10/100\n",
      "1705/1705 [==============================] - 1s 825us/step - loss: 1.1447 - accuracy: 0.7074\n",
      "Epoch 11/100\n",
      "1705/1705 [==============================] - 1s 849us/step - loss: 1.1405 - accuracy: 0.7078\n",
      "Epoch 12/100\n",
      "1705/1705 [==============================] - 2s 905us/step - loss: 1.1395 - accuracy: 0.7078\n",
      "Epoch 13/100\n",
      "1705/1705 [==============================] - 2s 992us/step - loss: 1.1388 - accuracy: 0.7080\n",
      "Epoch 14/100\n",
      "1705/1705 [==============================] - 2s 1ms/step - loss: 1.1363 - accuracy: 0.7081\n",
      "Epoch 15/100\n",
      "1705/1705 [==============================] - 2s 1ms/step - loss: 1.1361 - accuracy: 0.7080\n",
      "Epoch 16/100\n",
      "1705/1705 [==============================] - 3s 2ms/step - loss: 1.1346 - accuracy: 0.7080\n",
      "Epoch 17/100\n",
      "1705/1705 [==============================] - 3s 2ms/step - loss: 1.1336 - accuracy: 0.7082\n",
      "Epoch 18/100\n",
      "1705/1705 [==============================] - 2s 950us/step - loss: 1.1328 - accuracy: 0.7081\n",
      "Epoch 19/100\n",
      "1705/1705 [==============================] - 2s 917us/step - loss: 1.1324 - accuracy: 0.7082\n",
      "Epoch 20/100\n",
      "1705/1705 [==============================] - 2s 938us/step - loss: 1.1307 - accuracy: 0.7084\n",
      "Epoch 21/100\n",
      "1705/1705 [==============================] - 2s 1ms/step - loss: 1.1306 - accuracy: 0.7083\n",
      "Epoch 22/100\n",
      "1705/1705 [==============================] - 2s 1ms/step - loss: 1.1291 - accuracy: 0.7084\n",
      "Epoch 23/100\n",
      "1705/1705 [==============================] - 2s 1ms/step - loss: 1.1285 - accuracy: 0.7084\n",
      "Epoch 24/100\n",
      "1705/1705 [==============================] - 2s 1ms/step - loss: 1.1284 - accuracy: 0.7084\n",
      "Epoch 25/100\n",
      "1705/1705 [==============================] - 3s 2ms/step - loss: 1.1278 - accuracy: 0.7085\n",
      "Epoch 26/100\n",
      "1705/1705 [==============================] - 2s 1ms/step - loss: 1.1273 - accuracy: 0.7084\n",
      "Epoch 27/100\n",
      "1705/1705 [==============================] - 3s 2ms/step - loss: 1.1278 - accuracy: 0.7084\n",
      "Epoch 28/100\n",
      "1705/1705 [==============================] - 2s 1ms/step - loss: 1.1265 - accuracy: 0.7084\n",
      "Epoch 29/100\n",
      "1705/1705 [==============================] - 1s 872us/step - loss: 1.1252 - accuracy: 0.7085\n",
      "Epoch 30/100\n",
      "1705/1705 [==============================] - 2s 914us/step - loss: 1.1241 - accuracy: 0.7085\n",
      "Epoch 31/100\n",
      "1705/1705 [==============================] - 1s 872us/step - loss: 1.1242 - accuracy: 0.7084\n",
      "Epoch 32/100\n",
      "1705/1705 [==============================] - 2s 889us/step - loss: 1.1230 - accuracy: 0.7086\n",
      "Epoch 33/100\n",
      "1705/1705 [==============================] - 2s 965us/step - loss: 1.1221 - accuracy: 0.7085\n",
      "Epoch 34/100\n",
      "1705/1705 [==============================] - 2s 881us/step - loss: 1.1231 - accuracy: 0.7085\n",
      "Epoch 35/100\n",
      "1705/1705 [==============================] - 1s 872us/step - loss: 1.1214 - accuracy: 0.7085\n",
      "Epoch 36/100\n",
      "1705/1705 [==============================] - 1s 869us/step - loss: 1.1207 - accuracy: 0.7087\n",
      "Epoch 37/100\n",
      "1705/1705 [==============================] - 2s 1ms/step - loss: 1.1207 - accuracy: 0.7087\n",
      "Epoch 38/100\n",
      "1705/1705 [==============================] - 2s 1ms/step - loss: 1.1208 - accuracy: 0.7086\n",
      "Epoch 39/100\n",
      "1705/1705 [==============================] - 2s 1ms/step - loss: 1.1199 - accuracy: 0.7086\n",
      "Epoch 40/100\n",
      "1705/1705 [==============================] - 2s 1ms/step - loss: 1.1188 - accuracy: 0.7086\n",
      "Epoch 41/100\n",
      "1705/1705 [==============================] - 3s 2ms/step - loss: 1.1187 - accuracy: 0.7089\n",
      "Epoch 42/100\n",
      "1705/1705 [==============================] - 2s 1ms/step - loss: 1.1181 - accuracy: 0.7091\n",
      "Epoch 43/100\n",
      "1705/1705 [==============================] - 2s 1ms/step - loss: 1.1172 - accuracy: 0.7089\n",
      "Epoch 44/100\n",
      "1705/1705 [==============================] - 2s 1ms/step - loss: 1.1172 - accuracy: 0.7090\n",
      "Epoch 45/100\n",
      "1705/1705 [==============================] - 2s 1ms/step - loss: 1.1172 - accuracy: 0.7090\n",
      "Epoch 46/100\n",
      "1705/1705 [==============================] - 3s 1ms/step - loss: 1.1176 - accuracy: 0.7091\n",
      "Epoch 47/100\n",
      "1705/1705 [==============================] - 3s 2ms/step - loss: 1.1155 - accuracy: 0.7091\n",
      "Epoch 48/100\n",
      "1705/1705 [==============================] - 3s 2ms/step - loss: 1.1154 - accuracy: 0.7092\n",
      "Epoch 49/100\n",
      "1705/1705 [==============================] - 2s 1ms/step - loss: 1.1150 - accuracy: 0.7092\n",
      "Epoch 50/100\n",
      "1705/1705 [==============================] - 2s 942us/step - loss: 1.1151 - accuracy: 0.7092\n",
      "Epoch 51/100\n",
      "1705/1705 [==============================] - 2s 884us/step - loss: 1.1149 - accuracy: 0.7091\n",
      "Epoch 52/100\n",
      "1705/1705 [==============================] - 2s 886us/step - loss: 1.1143 - accuracy: 0.7093\n",
      "Epoch 53/100\n",
      "1705/1705 [==============================] - 2s 886us/step - loss: 1.1138 - accuracy: 0.7092\n",
      "Epoch 54/100\n",
      "1705/1705 [==============================] - 2s 911us/step - loss: 1.1142 - accuracy: 0.7092\n",
      "Epoch 55/100\n",
      "1705/1705 [==============================] - 2s 937us/step - loss: 1.1140 - accuracy: 0.7094\n",
      "Epoch 56/100\n",
      "1705/1705 [==============================] - 2s 907us/step - loss: 1.1138 - accuracy: 0.7095\n",
      "Epoch 57/100\n",
      "1705/1705 [==============================] - 2s 1ms/step - loss: 1.1133 - accuracy: 0.7093\n",
      "Epoch 58/100\n",
      "1705/1705 [==============================] - 2s 1ms/step - loss: 1.1124 - accuracy: 0.7096\n",
      "Epoch 59/100\n",
      "1705/1705 [==============================] - 3s 2ms/step - loss: 1.1121 - accuracy: 0.7094\n",
      "Epoch 60/100\n",
      "1705/1705 [==============================] - 2s 1ms/step - loss: 1.1126 - accuracy: 0.7093\n",
      "Epoch 61/100\n",
      "1705/1705 [==============================] - 2s 1ms/step - loss: 1.1118 - accuracy: 0.7094\n",
      "Epoch 62/100\n",
      "1705/1705 [==============================] - 2s 1ms/step - loss: 1.1113 - accuracy: 0.7095\n",
      "Epoch 63/100\n",
      "1705/1705 [==============================] - 2s 1ms/step - loss: 1.1115 - accuracy: 0.7094\n",
      "Epoch 64/100\n",
      "1705/1705 [==============================] - 3s 1ms/step - loss: 1.1115 - accuracy: 0.7095\n",
      "Epoch 65/100\n",
      "1705/1705 [==============================] - 2s 1ms/step - loss: 1.1109 - accuracy: 0.7093\n",
      "Epoch 66/100\n",
      "1705/1705 [==============================] - 2s 1ms/step - loss: 1.1103 - accuracy: 0.7095\n",
      "Epoch 67/100\n",
      "1705/1705 [==============================] - 2s 1ms/step - loss: 1.1100 - accuracy: 0.7096\n",
      "Epoch 68/100\n",
      "1705/1705 [==============================] - 2s 1ms/step - loss: 1.1098 - accuracy: 0.7098\n",
      "Epoch 69/100\n",
      "1705/1705 [==============================] - 2s 1ms/step - loss: 1.1096 - accuracy: 0.7094\n",
      "Epoch 70/100\n",
      "1705/1705 [==============================] - 3s 1ms/step - loss: 1.1087 - accuracy: 0.7097\n",
      "Epoch 71/100\n",
      "1705/1705 [==============================] - 2s 1ms/step - loss: 1.1089 - accuracy: 0.7099\n",
      "Epoch 72/100\n",
      "1705/1705 [==============================] - 2s 1ms/step - loss: 1.1083 - accuracy: 0.7098\n",
      "Epoch 73/100\n",
      "1705/1705 [==============================] - 3s 1ms/step - loss: 1.1083 - accuracy: 0.7097\n",
      "Epoch 74/100\n",
      "1705/1705 [==============================] - 2s 1ms/step - loss: 1.1079 - accuracy: 0.7100\n",
      "Epoch 75/100\n",
      "1705/1705 [==============================] - 2s 1ms/step - loss: 1.1073 - accuracy: 0.7100\n",
      "Epoch 76/100\n",
      "1705/1705 [==============================] - 1s 865us/step - loss: 1.1074 - accuracy: 0.7101\n",
      "Epoch 77/100\n",
      "1705/1705 [==============================] - 2s 967us/step - loss: 1.1069 - accuracy: 0.7101\n",
      "Epoch 78/100\n",
      "1705/1705 [==============================] - 2s 1ms/step - loss: 1.1071 - accuracy: 0.7099\n",
      "Epoch 79/100\n"
     ]
    },
    {
     "name": "stdout",
     "output_type": "stream",
     "text": [
      "1705/1705 [==============================] - 2s 910us/step - loss: 1.1066 - accuracy: 0.7099\n",
      "Epoch 80/100\n",
      "1705/1705 [==============================] - 2s 971us/step - loss: 1.1066 - accuracy: 0.7098\n",
      "Epoch 81/100\n",
      "1705/1705 [==============================] - 2s 1ms/step - loss: 1.1058 - accuracy: 0.7098\n",
      "Epoch 82/100\n",
      "1705/1705 [==============================] - 2s 1ms/step - loss: 1.1059 - accuracy: 0.7100\n",
      "Epoch 83/100\n",
      "1705/1705 [==============================] - 3s 2ms/step - loss: 1.1062 - accuracy: 0.7101\n",
      "Epoch 84/100\n",
      "1705/1705 [==============================] - 3s 1ms/step - loss: 1.1059 - accuracy: 0.7099\n",
      "Epoch 85/100\n",
      "1705/1705 [==============================] - 3s 2ms/step - loss: 1.1052 - accuracy: 0.7101\n",
      "Epoch 86/100\n",
      "1705/1705 [==============================] - 2s 1ms/step - loss: 1.1050 - accuracy: 0.7102\n",
      "Epoch 87/100\n",
      "1705/1705 [==============================] - 2s 1ms/step - loss: 1.1045 - accuracy: 0.7101\n",
      "Epoch 88/100\n",
      "1705/1705 [==============================] - 2s 1ms/step - loss: 1.1044 - accuracy: 0.7103\n",
      "Epoch 89/100\n",
      "1705/1705 [==============================] - 3s 1ms/step - loss: 1.1043 - accuracy: 0.7101\n",
      "Epoch 90/100\n",
      "1705/1705 [==============================] - 2s 1ms/step - loss: 1.1047 - accuracy: 0.7104\n",
      "Epoch 91/100\n",
      "1705/1705 [==============================] - 2s 1ms/step - loss: 1.1034 - accuracy: 0.7101\n",
      "Epoch 92/100\n",
      "1705/1705 [==============================] - 3s 2ms/step - loss: 1.1046 - accuracy: 0.7100\n",
      "Epoch 93/100\n",
      "1705/1705 [==============================] - 2s 1ms/step - loss: 1.1033 - accuracy: 0.7101\n",
      "Epoch 94/100\n",
      "1705/1705 [==============================] - 2s 1ms/step - loss: 1.1035 - accuracy: 0.7105\n",
      "Epoch 95/100\n",
      "1705/1705 [==============================] - 2s 1ms/step - loss: 1.1039 - accuracy: 0.7105\n",
      "Epoch 96/100\n",
      "1705/1705 [==============================] - 3s 1ms/step - loss: 1.1030 - accuracy: 0.7107\n",
      "Epoch 97/100\n",
      "1705/1705 [==============================] - 3s 1ms/step - loss: 1.1032 - accuracy: 0.7101\n",
      "Epoch 98/100\n",
      "1705/1705 [==============================] - 3s 2ms/step - loss: 1.1032 - accuracy: 0.7105\n",
      "Epoch 99/100\n",
      "1705/1705 [==============================] - 2s 1ms/step - loss: 1.1028 - accuracy: 0.7106\n",
      "Epoch 100/100\n",
      "1705/1705 [==============================] - 2s 1ms/step - loss: 1.1021 - accuracy: 0.7104\n"
     ]
    },
    {
     "data": {
      "text/plain": [
       "<keras.callbacks.History at 0x1663832f9d0>"
      ]
     },
     "execution_count": 19,
     "metadata": {},
     "output_type": "execute_result"
    }
   ],
   "source": [
    "# model definition\n",
    "model = ml.Sequential()\n",
    "model.add( l.Dense( 128, input_dim=x_train.shape[1], activation='relu' ) )\n",
    "model.add( l.Dense( 11, activation='softmax' ) )\n",
    "\n",
    "# model compile\n",
    "model.compile( loss='categorical_crossentropy', optimizer='adam', metrics=['accuracy'] )\n",
    "\n",
    "# modelo training\n",
    "model.fit( x_train, y_train_nn, epochs=100 )"
   ]
  },
  {
   "cell_type": "code",
   "execution_count": 20,
   "id": "1d013acb",
   "metadata": {
    "ExecuteTime": {
     "end_time": "2022-04-08T22:48:10.552105Z",
     "start_time": "2022-04-08T22:48:10.016357Z"
    }
   },
   "outputs": [],
   "source": [
    "# prediction\n",
    "pred_nn = model.predict( x_val )\n",
    "\n",
    "# invert_prediction\n",
    "yhat_nn = ohe.inverse_transform( pred_nn )\n",
    "\n",
    "# prediction prepare\n",
    "y_val_nn = y_val.to_numpy()\n",
    "yhat_nn = yhat_nn.reshape( 1, -1 )[0]"
   ]
  },
  {
   "cell_type": "markdown",
   "id": "0f405a1e",
   "metadata": {},
   "source": [
    "### 7.1.1. Performance"
   ]
  },
  {
   "cell_type": "code",
   "execution_count": 21,
   "id": "b0448c65",
   "metadata": {
    "ExecuteTime": {
     "end_time": "2022-04-08T22:48:10.583257Z",
     "start_time": "2022-04-08T22:48:10.554971Z"
    }
   },
   "outputs": [
    {
     "name": "stdout",
     "output_type": "stream",
     "text": [
      "Accuracy is 0.7103043637697103\n"
     ]
    }
   ],
   "source": [
    "# Accuracy \n",
    "accuracy_nn = m.accuracy_score( y_val_nn, yhat_nn )\n",
    "print( 'Accuracy is {}'.format( accuracy_nn ) )"
   ]
  },
  {
   "cell_type": "code",
   "execution_count": 22,
   "id": "3fe86417",
   "metadata": {
    "ExecuteTime": {
     "end_time": "2022-04-08T22:48:11.803653Z",
     "start_time": "2022-04-08T22:48:10.586213Z"
    }
   },
   "outputs": [
    {
     "data": {
      "image/png": "[encoded data removed]",
      "text/plain": [
       "<Figure size 1152x576 with 2 Axes>"
      ]
     },
     "metadata": {
      "image/png": {
       "height": 502,
       "width": 601
      }
     },
     "output_type": "display_data"
    }
   ],
   "source": [
    "# Confusion Matrix\n",
    "mt.plot_confusion_matrix( y_val_nn, yhat_nn, normalize=False );"
   ]
  },
  {
   "cell_type": "markdown",
   "id": "36c20f22",
   "metadata": {},
   "source": [
    "# 8.0. HYPERPARAMETER FINE TUNING"
   ]
  },
  {
   "cell_type": "code",
   "execution_count": null,
   "id": "299168c5",
   "metadata": {},
   "outputs": [],
   "source": []
  },
  {
   "cell_type": "markdown",
   "id": "19e0af81",
   "metadata": {},
   "source": [
    "# 9.0. BUSINESS RESULTS"
   ]
  },
  {
   "cell_type": "code",
   "execution_count": null,
   "id": "2076e786",
   "metadata": {},
   "outputs": [],
   "source": []
  },
  {
   "cell_type": "markdown",
   "id": "7a1e3045",
   "metadata": {},
   "source": [
    "# 10.0. DEPLOY"
   ]
  },
  {
   "cell_type": "code",
   "execution_count": null,
   "id": "3bb05149",
   "metadata": {},
   "outputs": [],
   "source": []
  }
 ],
 "metadata": {
  "kernelspec": {
   "display_name": "Python 3 (ipykernel)",
   "language": "python",
   "name": "python3"
  },
  "language_info": {
   "codemirror_mode": {
    "name": "ipython",
    "version": 3
   },
   "file_extension": ".py",
   "mimetype": "text/x-python",
   "name": "python",
   "nbconvert_exporter": "python",
   "pygments_lexer": "ipython3",
   "version": "3.8.13"
  }
 },
 "nbformat": 4,
 "nbformat_minor": 5
}
