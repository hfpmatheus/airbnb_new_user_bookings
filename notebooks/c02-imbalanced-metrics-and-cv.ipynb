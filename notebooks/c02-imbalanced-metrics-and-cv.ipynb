{
 "cells": [
  {
   "cell_type": "markdown",
   "id": "8f3209af",
   "metadata": {},
   "source": [
    "# 0.0. IMPORTS"
   ]
  },
  {
   "cell_type": "code",
   "execution_count": 1,
   "id": "0f2a9bc6",
   "metadata": {
    "ExecuteTime": {
     "end_time": "2022-04-09T11:03:27.683625Z",
     "start_time": "2022-04-09T11:03:15.022989Z"
    }
   },
   "outputs": [],
   "source": [
    "import random\n",
    "import warnings\n",
    "\n",
    "import pandas  as pd\n",
    "import seaborn as sns\n",
    "\n",
    "from sklearn    import model_selection as ms\n",
    "from sklearn    import preprocessing   as pp\n",
    "from sklearn    import metrics         as m\n",
    "from scikitplot import metrics         as mt\n",
    "from keras      import models          as ml\n",
    "from keras      import layers          as l"
   ]
  },
  {
   "cell_type": "code",
   "execution_count": 2,
   "id": "e038ef1f",
   "metadata": {
    "ExecuteTime": {
     "end_time": "2022-04-09T11:03:27.699345Z",
     "start_time": "2022-04-09T11:03:27.687377Z"
    }
   },
   "outputs": [],
   "source": [
    "warnings.filterwarnings(\"ignore\")"
   ]
  },
  {
   "cell_type": "markdown",
   "id": "ea9abeeb",
   "metadata": {},
   "source": [
    "## 0.1. Aux Functions"
   ]
  },
  {
   "cell_type": "code",
   "execution_count": 3,
   "id": "8d66f44d",
   "metadata": {
    "ExecuteTime": {
     "end_time": "2022-04-09T11:03:27.792100Z",
     "start_time": "2022-04-09T11:03:27.702460Z"
    }
   },
   "outputs": [
    {
     "name": "stdout",
     "output_type": "stream",
     "text": [
      "%pylab is deprecated, use %matplotlib inline and import the required libraries.\n",
      "Populating the interactive namespace from numpy and matplotlib\n"
     ]
    }
   ],
   "source": [
    "# jupyter design\n",
    "def jupyter_settings():\n",
    "    %matplotlib inline\n",
    "    %pylab inline\n",
    "    %config InlineBackend.figure_format = 'retina'\n",
    "\n",
    "    plt.style.use('ggplot')\n",
    "    plt.rcParams['figure.figsize'] = [16, 8]\n",
    "    plt.rcParams['font.size'] = 24\n",
    "\n",
    "#     display(HTML('<style>.container { width:100% !important; }</style>'))\n",
    "#     pd.options.display.max_columns = None\n",
    "#     pd.options.display.max_rows = None\n",
    "#     pd.options.display.float_format = '{:,.4f}'.format\n",
    "#     pd.set_option('display.expand_frame_repr', False)\n",
    "#     pd.set_option('display.max_columns', None)\n",
    "#     pd.set_option('display.max_rows', None)\n",
    "\n",
    "    sns.set()\n",
    "    \n",
    "jupyter_settings()\n",
    "\n",
    "# imbalanced metrics ( balanced accuracy and kappa score )\n",
    "def imbalanced_metrics( model_name, y_val, yhat ):\n",
    "    # Balanced Accuracy\n",
    "    balanced_accuracy = m.balanced_accuracy_score( y_val, yhat)\n",
    "    \n",
    "    # Kappa Score\n",
    "    kappa_score = m.cohen_kappa_score( y_val, yhat )\n",
    "    \n",
    "    return pd.DataFrame({\"balanced_accuracy\": \"{}\".format(np.round(balanced_accuracy,3)),\n",
    "                         \"kappa_score\": \"{}\".format(np.round(kappa_score,3))}, index=[model_name])\n",
    "\n",
    "# cross validation neural networks\n",
    "def cross_validation(model_name, model, x, y, epochs=100, verbose=0):\n",
    "    \n",
    "    balanced_accuracy_list = []\n",
    "    kappa_score_list = []\n",
    "\n",
    "    skf = ms.StratifiedKFold(n_splits=5, shuffle=True, random_state=42)\n",
    "    \n",
    "    for train_index, test_index in skf.split(x, y):\n",
    "        \n",
    "        x_train_cv = x.iloc[train_index]\n",
    "        y_train_cv = y.iloc[train_index]\n",
    "        \n",
    "        x_test_cv = x.iloc[test_index]\n",
    "        y_test_cv = y.iloc[test_index]\n",
    "        \n",
    "        # target variable encoding\n",
    "        ohe = pp.OneHotEncoder()\n",
    "        y_train_cv = ohe.fit_transform( y_train_cv.values.reshape( -1, 1 ) ).toarray()\n",
    "        \n",
    "        # model training\n",
    "        model.fit(x_train_cv, y_train_cv, epochs=epochs, verbose=verbose )\n",
    "        \n",
    "        # prediction\n",
    "        pred = model.predict(x_test_cv)\n",
    "        yhat = ohe.inverse_transform( pred )\n",
    "        \n",
    "        # metrics\n",
    "        balanced_accuracy_list.append( m.balanced_accuracy_score( y_test_cv, yhat) )\n",
    "        kappa_score_list.append( m.cohen_kappa_score( y_test_cv, yhat ) )\n",
    "        \n",
    "    \n",
    "    balanced_accuracy_mean, balanced_accuracy_std = np.round( np.mean( balanced_accuracy_list ), 2 ), np.round( np.std( balanced_accuracy_list ), 2 )\n",
    "    kappa_score_mean, kappa_score_std = np.round( np.mean( kappa_score_list ), 2 ), np.round( np.std( kappa_score_list ), 2 )\n",
    "   \n",
    "    \n",
    "    return pd.DataFrame({\"Balanced_Accuracy:\": \"{} +/- {}\".format(balanced_accuracy_mean, balanced_accuracy_std),\n",
    "                         \"Kappa_Score\": \"{} +/- {}\".format(kappa_score_mean, kappa_score_std)}, index=[model_name])"
   ]
  },
  {
   "cell_type": "markdown",
   "id": "876addc3",
   "metadata": {},
   "source": [
    "## 0.2. Reading Data"
   ]
  },
  {
   "cell_type": "code",
   "execution_count": 4,
   "id": "d13bce40",
   "metadata": {
    "ExecuteTime": {
     "end_time": "2022-04-09T11:03:28.742796Z",
     "start_time": "2022-04-09T11:03:27.796088Z"
    }
   },
   "outputs": [],
   "source": [
    "df_raw = pd.read_csv( \"../datasets/train_users_2.csv\" )"
   ]
  },
  {
   "cell_type": "markdown",
   "id": "9ec99871",
   "metadata": {},
   "source": [
    "# 1.0. DATA DESCRIPTION"
   ]
  },
  {
   "cell_type": "code",
   "execution_count": 5,
   "id": "87458d79",
   "metadata": {
    "ExecuteTime": {
     "end_time": "2022-04-09T11:03:28.788636Z",
     "start_time": "2022-04-09T11:03:28.747544Z"
    }
   },
   "outputs": [],
   "source": [
    "df1 = df_raw.copy()"
   ]
  },
  {
   "cell_type": "markdown",
   "id": "ea99d2b6",
   "metadata": {},
   "source": [
    "## 1.1. Columns Descriptions"
   ]
  },
  {
   "cell_type": "code",
   "execution_count": 6,
   "id": "d40cb9e2",
   "metadata": {
    "ExecuteTime": {
     "end_time": "2022-04-09T11:03:28.804530Z",
     "start_time": "2022-04-09T11:03:28.792536Z"
    }
   },
   "outputs": [
    {
     "data": {
      "text/plain": [
       "Index(['id', 'date_account_created', 'timestamp_first_active',\n",
       "       'date_first_booking', 'gender', 'age', 'signup_method', 'signup_flow',\n",
       "       'language', 'affiliate_channel', 'affiliate_provider',\n",
       "       'first_affiliate_tracked', 'signup_app', 'first_device_type',\n",
       "       'first_browser', 'country_destination'],\n",
       "      dtype='object')"
      ]
     },
     "execution_count": 6,
     "metadata": {},
     "output_type": "execute_result"
    }
   ],
   "source": [
    "df1.columns"
   ]
  },
  {
   "cell_type": "markdown",
   "id": "2cb1ae61",
   "metadata": {},
   "source": [
    "- **id:** user id\n",
    "\n",
    "- **date_account_created:** the date of account creation\n",
    "\n",
    "- **timestamp_first_active:** timestamp of the first activity, note that it can be earlier than date_account_created or -date_first_booking because a user can search before signing up\n",
    "\n",
    "- **date_first_booking: date of first booking**\n",
    "\n",
    "- **gender**\n",
    "\n",
    "- **age**\n",
    "\n",
    "- **signup_method**\n",
    "\n",
    "- **signup_flow:** the page a user came to signup up from\n",
    "\n",
    "- **language:** international language preference\n",
    "\n",
    "- **affiliate_channel:** what kind of paid marketing\n",
    "\n",
    "- **affiliate_provider:** where the marketing is e.g. google, craigslist, other\n",
    "\n",
    "- **first_affiliate_tracked:** whats the first marketing the user interacted with before the signing up\n",
    "\n",
    "- **signup_app**\n",
    "\n",
    "- **first_device_type**\n",
    "\n",
    "- **first_browser**\n",
    "\n",
    "- **country_destination:** this is the target variable you are to predict"
   ]
  },
  {
   "cell_type": "markdown",
   "id": "ac715231",
   "metadata": {},
   "source": [
    "### 1.1.1. Rename Columns"
   ]
  },
  {
   "cell_type": "markdown",
   "id": "e1eab8cc",
   "metadata": {},
   "source": [
    "No need, they're already on snakecase."
   ]
  },
  {
   "cell_type": "markdown",
   "id": "956821a5",
   "metadata": {
    "ExecuteTime": {
     "end_time": "2022-04-07T21:54:31.007623Z",
     "start_time": "2022-04-07T21:54:30.995975Z"
    }
   },
   "source": [
    "## 1.2. Data Dimensions"
   ]
  },
  {
   "cell_type": "code",
   "execution_count": 7,
   "id": "a6a0a1db",
   "metadata": {
    "ExecuteTime": {
     "end_time": "2022-04-09T11:03:28.819980Z",
     "start_time": "2022-04-09T11:03:28.807167Z"
    }
   },
   "outputs": [
    {
     "name": "stdout",
     "output_type": "stream",
     "text": [
      "Number of rows: 213451\n",
      "Number of columns: 16\n"
     ]
    }
   ],
   "source": [
    "print( 'Number of rows: {}'.format( df1.shape[0] ) )\n",
    "print( 'Number of columns: {}'.format( df1.shape[1] ) )"
   ]
  },
  {
   "cell_type": "markdown",
   "id": "80ca16c4",
   "metadata": {},
   "source": [
    "## 1.3. NA Check"
   ]
  },
  {
   "cell_type": "code",
   "execution_count": 8,
   "id": "f090df9a",
   "metadata": {
    "ExecuteTime": {
     "end_time": "2022-04-09T11:03:29.590250Z",
     "start_time": "2022-04-09T11:03:28.822877Z"
    }
   },
   "outputs": [
    {
     "data": {
      "text/plain": [
       "id                              0\n",
       "date_account_created            0\n",
       "timestamp_first_active          0\n",
       "date_first_booking         124543\n",
       "gender                          0\n",
       "age                         87990\n",
       "signup_method                   0\n",
       "signup_flow                     0\n",
       "language                        0\n",
       "affiliate_channel               0\n",
       "affiliate_provider              0\n",
       "first_affiliate_tracked      6065\n",
       "signup_app                      0\n",
       "first_device_type               0\n",
       "first_browser                   0\n",
       "country_destination             0\n",
       "dtype: int64"
      ]
     },
     "execution_count": 8,
     "metadata": {},
     "output_type": "execute_result"
    }
   ],
   "source": [
    "df1.isna().sum()"
   ]
  },
  {
   "cell_type": "markdown",
   "id": "342ccb54",
   "metadata": {},
   "source": [
    "### 1.3.1. NA Fulfill"
   ]
  },
  {
   "cell_type": "code",
   "execution_count": 9,
   "id": "cf3f4522",
   "metadata": {
    "ExecuteTime": {
     "end_time": "2022-04-09T11:03:30.380490Z",
     "start_time": "2022-04-09T11:03:29.594483Z"
    }
   },
   "outputs": [],
   "source": [
    "df1 = df1.dropna()"
   ]
  },
  {
   "cell_type": "markdown",
   "id": "0bafdb7f",
   "metadata": {},
   "source": [
    "## 1.4. Data Types"
   ]
  },
  {
   "cell_type": "code",
   "execution_count": 10,
   "id": "4c42e7fb",
   "metadata": {
    "ExecuteTime": {
     "end_time": "2022-04-09T11:03:30.411443Z",
     "start_time": "2022-04-09T11:03:30.388470Z"
    },
    "scrolled": true
   },
   "outputs": [
    {
     "data": {
      "text/plain": [
       "id                          object\n",
       "date_account_created        object\n",
       "timestamp_first_active       int64\n",
       "date_first_booking          object\n",
       "gender                      object\n",
       "age                        float64\n",
       "signup_method               object\n",
       "signup_flow                  int64\n",
       "language                    object\n",
       "affiliate_channel           object\n",
       "affiliate_provider          object\n",
       "first_affiliate_tracked     object\n",
       "signup_app                  object\n",
       "first_device_type           object\n",
       "first_browser               object\n",
       "country_destination         object\n",
       "dtype: object"
      ]
     },
     "execution_count": 10,
     "metadata": {},
     "output_type": "execute_result"
    }
   ],
   "source": [
    "df1.dtypes"
   ]
  },
  {
   "cell_type": "markdown",
   "id": "da58965a",
   "metadata": {},
   "source": [
    "### 1.4.1. Change types"
   ]
  },
  {
   "cell_type": "code",
   "execution_count": 11,
   "id": "df3dccdb",
   "metadata": {
    "ExecuteTime": {
     "end_time": "2022-04-09T11:03:30.506266Z",
     "start_time": "2022-04-09T11:03:30.415663Z"
    }
   },
   "outputs": [],
   "source": [
    "# date account created - datetime\n",
    "df1['date_account_created'] = pd.to_datetime( df1['date_account_created'] )\n",
    "\n",
    "# timestamp first active - datetime\n",
    "df1['timestamp_first_active'] = pd.to_datetime( df1['timestamp_first_active'], format=( '%Y-%m-%d %H:%M:%S' ) )\n",
    "\n",
    "# date first booking - datetime\n",
    "df1['date_first_booking'] = pd.to_datetime( df1['date_first_booking'] )\n",
    "\n",
    "# age - int\n",
    "df1['age'] = df1['age'].astype( 'int64' )"
   ]
  },
  {
   "cell_type": "markdown",
   "id": "c159b7e7",
   "metadata": {},
   "source": [
    "## 1.5. Data Proportion"
   ]
  },
  {
   "cell_type": "code",
   "execution_count": 12,
   "id": "466c5dc3",
   "metadata": {
    "ExecuteTime": {
     "end_time": "2022-04-09T11:03:30.538165Z",
     "start_time": "2022-04-09T11:03:30.511138Z"
    }
   },
   "outputs": [
    {
     "data": {
      "text/plain": [
       "US       0.708864\n",
       "other    0.110854\n",
       "FR       0.054085\n",
       "IT       0.029763\n",
       "GB       0.025935\n",
       "ES       0.024864\n",
       "CA       0.015696\n",
       "DE       0.012454\n",
       "NL       0.008801\n",
       "AU       0.006366\n",
       "PT       0.002318\n",
       "Name: country_destination, dtype: float64"
      ]
     },
     "execution_count": 12,
     "metadata": {},
     "output_type": "execute_result"
    }
   ],
   "source": [
    "df1['country_destination'].value_counts( normalize=True )"
   ]
  },
  {
   "cell_type": "markdown",
   "id": "ba9fe811",
   "metadata": {},
   "source": [
    "We clearly have Imbalanced Data, wich will affect the models."
   ]
  },
  {
   "cell_type": "markdown",
   "id": "20835490",
   "metadata": {},
   "source": [
    "## 1.6. Descriptive Statistics"
   ]
  },
  {
   "cell_type": "code",
   "execution_count": null,
   "id": "fc2acc32",
   "metadata": {},
   "outputs": [],
   "source": []
  },
  {
   "cell_type": "markdown",
   "id": "8b5c7a19",
   "metadata": {},
   "source": [
    "### 1.6.1. Numerical Attributes"
   ]
  },
  {
   "cell_type": "code",
   "execution_count": null,
   "id": "b65d4067",
   "metadata": {},
   "outputs": [],
   "source": []
  },
  {
   "cell_type": "markdown",
   "id": "9a1b061d",
   "metadata": {},
   "source": [
    "### 1.6.2. Categorical Attributes"
   ]
  },
  {
   "cell_type": "code",
   "execution_count": null,
   "id": "fcbad7ea",
   "metadata": {},
   "outputs": [],
   "source": []
  },
  {
   "cell_type": "markdown",
   "id": "8dd4b3c1",
   "metadata": {},
   "source": [
    "# 2.0. DATA FILTERING"
   ]
  },
  {
   "cell_type": "code",
   "execution_count": 13,
   "id": "bf3b7038",
   "metadata": {
    "ExecuteTime": {
     "end_time": "2022-04-09T11:03:30.569100Z",
     "start_time": "2022-04-09T11:03:30.543355Z"
    }
   },
   "outputs": [],
   "source": [
    "df2 = df1.copy()"
   ]
  },
  {
   "cell_type": "markdown",
   "id": "97b17ae9",
   "metadata": {},
   "source": [
    "# 3.0. FEATURE ENGINEERING"
   ]
  },
  {
   "cell_type": "code",
   "execution_count": 14,
   "id": "b1551f7d",
   "metadata": {
    "ExecuteTime": {
     "end_time": "2022-04-09T11:03:30.600960Z",
     "start_time": "2022-04-09T11:03:30.572971Z"
    }
   },
   "outputs": [],
   "source": [
    "df3 = df2.copy()"
   ]
  },
  {
   "cell_type": "markdown",
   "id": "52e7ca32",
   "metadata": {},
   "source": [
    "# 4.0. EXPLORATORY DATA ANALYSIS"
   ]
  },
  {
   "cell_type": "code",
   "execution_count": 15,
   "id": "0358c4bd",
   "metadata": {
    "ExecuteTime": {
     "end_time": "2022-04-09T11:03:30.632874Z",
     "start_time": "2022-04-09T11:03:30.605131Z"
    }
   },
   "outputs": [],
   "source": [
    "df4 = df1.copy()"
   ]
  },
  {
   "cell_type": "markdown",
   "id": "a76c808a",
   "metadata": {},
   "source": [
    "# 5.0. DATA PREPARATION"
   ]
  },
  {
   "cell_type": "code",
   "execution_count": 16,
   "id": "5629f537",
   "metadata": {
    "ExecuteTime": {
     "end_time": "2022-04-09T11:03:30.853340Z",
     "start_time": "2022-04-09T11:03:30.636843Z"
    }
   },
   "outputs": [],
   "source": [
    "df5 = df4.drop( columns=['date_account_created','timestamp_first_active','date_first_booking'] )\n",
    "\n",
    "df5_dummies = pd.get_dummies( df5.drop( columns=['id','country_destination'] ) )\n",
    "df5 = pd.concat( [ df5[['id','country_destination']], df5_dummies ], axis=1 )"
   ]
  },
  {
   "cell_type": "markdown",
   "id": "f71a5cfa",
   "metadata": {},
   "source": [
    "# 6.0. FEATURE SELECTION"
   ]
  },
  {
   "cell_type": "code",
   "execution_count": 17,
   "id": "ff1af643",
   "metadata": {
    "ExecuteTime": {
     "end_time": "2022-04-09T11:03:30.884555Z",
     "start_time": "2022-04-09T11:03:30.857245Z"
    }
   },
   "outputs": [],
   "source": [
    "df6 = df5.copy()"
   ]
  },
  {
   "cell_type": "markdown",
   "id": "e6bd8e88",
   "metadata": {},
   "source": [
    "# 7.0. MACHINE LEARNING"
   ]
  },
  {
   "cell_type": "code",
   "execution_count": 18,
   "id": "e52103d1",
   "metadata": {
    "ExecuteTime": {
     "end_time": "2022-04-09T11:03:31.009650Z",
     "start_time": "2022-04-09T11:03:30.888052Z"
    }
   },
   "outputs": [],
   "source": [
    "X = df6.drop( columns=['id','country_destination'] )\n",
    "Y = df6['country_destination'].copy()\n",
    "\n",
    "x_train, x_val, y_train, y_val = ms.train_test_split( X, Y, test_size=0.2, random_state=42 )"
   ]
  },
  {
   "cell_type": "markdown",
   "id": "e1c18208",
   "metadata": {},
   "source": [
    "## 7.1. Random Model"
   ]
  },
  {
   "cell_type": "code",
   "execution_count": 21,
   "id": "f4350f30",
   "metadata": {
    "ExecuteTime": {
     "end_time": "2022-04-09T11:03:56.678399Z",
     "start_time": "2022-04-09T11:03:56.625463Z"
    }
   },
   "outputs": [
    {
     "ename": "AttributeError",
     "evalue": "module 'numpy.random' has no attribute 'choices'",
     "output_type": "error",
     "traceback": [
      "\u001b[1;31m---------------------------------------------------------------------------\u001b[0m",
      "\u001b[1;31mAttributeError\u001b[0m                            Traceback (most recent call last)",
      "Input \u001b[1;32mIn [21]\u001b[0m, in \u001b[0;36m<cell line: 5>\u001b[1;34m()\u001b[0m\n\u001b[0;32m      2\u001b[0m k \u001b[38;5;241m=\u001b[39m y_val\u001b[38;5;241m.\u001b[39mshape[\u001b[38;5;241m0\u001b[39m]\n\u001b[0;32m      3\u001b[0m weights \u001b[38;5;241m=\u001b[39m df1[\u001b[38;5;124m'\u001b[39m\u001b[38;5;124mcountry_destination\u001b[39m\u001b[38;5;124m'\u001b[39m]\u001b[38;5;241m.\u001b[39mvalue_counts( normalize\u001b[38;5;241m=\u001b[39m\u001b[38;5;28;01mTrue\u001b[39;00m )\u001b[38;5;241m.\u001b[39msort_index()\u001b[38;5;241m.\u001b[39mto_list()\n\u001b[1;32m----> 5\u001b[0m yhat_random \u001b[38;5;241m=\u001b[39m \u001b[43mrandom\u001b[49m\u001b[38;5;241;43m.\u001b[39;49m\u001b[43mchoices\u001b[49m( population \u001b[38;5;241m=\u001b[39m country_destination_list,\n\u001b[0;32m      6\u001b[0m                               weights\u001b[38;5;241m=\u001b[39mweights,\n\u001b[0;32m      7\u001b[0m                               k\u001b[38;5;241m=\u001b[39mk )\n",
      "\u001b[1;31mAttributeError\u001b[0m: module 'numpy.random' has no attribute 'choices'"
     ]
    }
   ],
   "source": [
    "# country_destination_list = df6['country_destination'].drop_duplicates().sort_values().to_list()\n",
    "# k = y_val.shape[0]\n",
    "# weights = df1['country_destination'].value_counts( normalize=True ).sort_index().to_list()\n",
    "\n",
    "# yhat_random = random.choices( population = country_destination_list,\n",
    "#                               weights=weights,\n",
    "#                               k=k )"
   ]
  },
  {
   "cell_type": "markdown",
   "id": "caad6542",
   "metadata": {},
   "source": [
    "### 7.1.1. Imbalanced Metrics and Confusion Matrix"
   ]
  },
  {
   "cell_type": "code",
   "execution_count": 86,
   "id": "947449ca",
   "metadata": {
    "ExecuteTime": {
     "end_time": "2022-04-08T22:49:20.289358Z",
     "start_time": "2022-04-08T22:49:20.263394Z"
    }
   },
   "outputs": [
    {
     "ename": "NameError",
     "evalue": "name 'yhat_random' is not defined",
     "output_type": "error",
     "traceback": [
      "\u001b[1;31m---------------------------------------------------------------------------\u001b[0m",
      "\u001b[1;31mNameError\u001b[0m                                 Traceback (most recent call last)",
      "Input \u001b[1;32mIn [86]\u001b[0m, in \u001b[0;36m<cell line: 1>\u001b[1;34m()\u001b[0m\n\u001b[1;32m----> 1\u001b[0m imbalanced_metrics( \u001b[38;5;124m'\u001b[39m\u001b[38;5;124mRandom Model\u001b[39m\u001b[38;5;124m'\u001b[39m, y_val, \u001b[43myhat_random\u001b[49m )\n",
      "\u001b[1;31mNameError\u001b[0m: name 'yhat_random' is not defined"
     ]
    }
   ],
   "source": [
    "# imbalanced_metrics( 'Random Model', y_val, yhat_random )"
   ]
  },
  {
   "cell_type": "code",
   "execution_count": null,
   "id": "12960f21",
   "metadata": {
    "ExecuteTime": {
     "end_time": "2022-04-08T22:39:19.666896Z",
     "start_time": "2022-04-08T22:39:19.666896Z"
    }
   },
   "outputs": [],
   "source": [
    "# # Confusion Matrix\n",
    "# mt.plot_confusion_matrix( y_val, yhat_random, normalize=False );"
   ]
  },
  {
   "cell_type": "markdown",
   "id": "ed6e2aba",
   "metadata": {},
   "source": [
    "## 7.2. Neural Network - MLP"
   ]
  },
  {
   "cell_type": "code",
   "execution_count": null,
   "id": "5a24bbe5",
   "metadata": {
    "ExecuteTime": {
     "end_time": "2022-04-08T22:39:19.667893Z",
     "start_time": "2022-04-08T22:39:19.667893Z"
    }
   },
   "outputs": [],
   "source": [
    "# y train preparation\n",
    "ohe = pp.OneHotEncoder()\n",
    "y_train_nn = ohe.fit_transform( y_train.values.reshape( -1, 1 ) ).toarray()"
   ]
  },
  {
   "cell_type": "code",
   "execution_count": null,
   "id": "1ee654f5",
   "metadata": {
    "ExecuteTime": {
     "end_time": "2022-04-08T22:39:19.668890Z",
     "start_time": "2022-04-08T22:39:19.668890Z"
    }
   },
   "outputs": [],
   "source": [
    "# model definition\n",
    "model_nn = ml.Sequential()\n",
    "model_nn.add( l.Dense( 128, input_dim=x_train.shape[1], activation='relu' ) )\n",
    "model_nn.add( l.Dense( 11, activation='softmax' ) )\n",
    "\n",
    "# model compile\n",
    "model_nn.compile( loss='categorical_crossentropy', optimizer='adam', metrics=['accuracy'] )\n",
    "\n",
    "# model training\n",
    "model_nn.fit( x_train, y_train_nn, epochs=100, verbose=0 )"
   ]
  },
  {
   "cell_type": "code",
   "execution_count": null,
   "id": "1d013acb",
   "metadata": {
    "ExecuteTime": {
     "end_time": "2022-04-08T22:39:19.668890Z",
     "start_time": "2022-04-08T22:39:19.668890Z"
    }
   },
   "outputs": [],
   "source": [
    "# prediction\n",
    "pred_nn = model_nn.predict( x_val )\n",
    "yhat_nn = ohe.inverse_transform( pred_nn )\n",
    "\n",
    "# # prediction prepare\n",
    "# y_val_nn = y_val.to_numpy()\n",
    "# yhat_nn = yhat_nn.reshape( 1, -1 )[0]"
   ]
  },
  {
   "cell_type": "markdown",
   "id": "0f405a1e",
   "metadata": {},
   "source": [
    "### 7.2.1. Imbalanced Metrics and Confusion Matrix"
   ]
  },
  {
   "cell_type": "code",
   "execution_count": null,
   "id": "b0448c65",
   "metadata": {
    "ExecuteTime": {
     "end_time": "2022-04-08T22:39:19.670885Z",
     "start_time": "2022-04-08T22:39:19.670885Z"
    }
   },
   "outputs": [],
   "source": [
    "imbalanced_metrics( 'Neural Network', y_val_nn, yhat_nn )"
   ]
  },
  {
   "cell_type": "code",
   "execution_count": null,
   "id": "3fe86417",
   "metadata": {
    "ExecuteTime": {
     "end_time": "2022-04-08T22:39:19.671882Z",
     "start_time": "2022-04-08T22:39:19.671882Z"
    }
   },
   "outputs": [],
   "source": [
    "# Confusion Matrix\n",
    "mt.plot_confusion_matrix( y_val_nn, yhat_nn, normalize=False );"
   ]
  },
  {
   "cell_type": "markdown",
   "id": "a798205e",
   "metadata": {},
   "source": [
    "### 7.3. Cross Validation"
   ]
  },
  {
   "cell_type": "code",
   "execution_count": null,
   "id": "7078a6ed",
   "metadata": {
    "ExecuteTime": {
     "end_time": "2022-04-08T22:39:19.672879Z",
     "start_time": "2022-04-08T22:39:19.672879Z"
    }
   },
   "outputs": [],
   "source": [
    "# cv\n",
    "cross_validation( \"neural\", model_nn, X, Y )"
   ]
  },
  {
   "cell_type": "markdown",
   "id": "36c20f22",
   "metadata": {
    "heading_collapsed": true
   },
   "source": [
    "# 8.0. HYPERPARAMETER FINE TUNING"
   ]
  },
  {
   "cell_type": "code",
   "execution_count": null,
   "id": "299168c5",
   "metadata": {
    "hidden": true
   },
   "outputs": [],
   "source": []
  },
  {
   "cell_type": "markdown",
   "id": "19e0af81",
   "metadata": {
    "heading_collapsed": true
   },
   "source": [
    "# 9.0. BUSINESS RESULTS"
   ]
  },
  {
   "cell_type": "code",
   "execution_count": null,
   "id": "2076e786",
   "metadata": {
    "hidden": true
   },
   "outputs": [],
   "source": []
  },
  {
   "cell_type": "markdown",
   "id": "7a1e3045",
   "metadata": {},
   "source": [
    "# 10.0. DEPLOY"
   ]
  },
  {
   "cell_type": "code",
   "execution_count": null,
   "id": "3bb05149",
   "metadata": {},
   "outputs": [],
   "source": []
  }
 ],
 "metadata": {
  "kernelspec": {
   "display_name": "Python 3 (ipykernel)",
   "language": "python",
   "name": "python3"
  },
  "language_info": {
   "codemirror_mode": {
    "name": "ipython",
    "version": 3
   },
   "file_extension": ".py",
   "mimetype": "text/x-python",
   "name": "python",
   "nbconvert_exporter": "python",
   "pygments_lexer": "ipython3",
   "version": "3.8.13"
  }
 },
 "nbformat": 4,
 "nbformat_minor": 5
}
