{
 "cells": [
  {
   "cell_type": "markdown",
   "id": "8f3209af",
   "metadata": {},
   "source": [
    "# 0.0. IMPORTS"
   ]
  },
  {
   "cell_type": "code",
   "execution_count": 248,
   "id": "0f2a9bc6",
   "metadata": {
    "ExecuteTime": {
     "end_time": "2022-04-09T20:33:29.374452Z",
     "start_time": "2022-04-09T20:33:29.359584Z"
    }
   },
   "outputs": [],
   "source": [
    "import warnings\n",
    "\n",
    "import pandas  as pd\n",
    "import seaborn as sns\n",
    "import random  as r\n",
    "\n",
    "from sklearn    import model_selection as ms\n",
    "from sklearn    import preprocessing   as pp\n",
    "from sklearn    import metrics         as m\n",
    "from scikitplot import metrics         as mt\n",
    "from keras      import models          as ml\n",
    "from keras      import layers          as l"
   ]
  },
  {
   "cell_type": "code",
   "execution_count": 249,
   "id": "e038ef1f",
   "metadata": {
    "ExecuteTime": {
     "end_time": "2022-04-09T20:33:29.406447Z",
     "start_time": "2022-04-09T20:33:29.387494Z"
    }
   },
   "outputs": [],
   "source": [
    "warnings.filterwarnings(\"ignore\")"
   ]
  },
  {
   "cell_type": "markdown",
   "id": "ea9abeeb",
   "metadata": {},
   "source": [
    "## 0.1. Aux Functions"
   ]
  },
  {
   "cell_type": "code",
   "execution_count": 250,
   "id": "8d66f44d",
   "metadata": {
    "ExecuteTime": {
     "end_time": "2022-04-09T20:33:29.749390Z",
     "start_time": "2022-04-09T20:33:29.704354Z"
    }
   },
   "outputs": [
    {
     "name": "stdout",
     "output_type": "stream",
     "text": [
      "%pylab is deprecated, use %matplotlib inline and import the required libraries.\n",
      "Populating the interactive namespace from numpy and matplotlib\n"
     ]
    }
   ],
   "source": [
    "# jupyter design\n",
    "def jupyter_settings():\n",
    "    %matplotlib inline\n",
    "    %pylab inline\n",
    "    %config InlineBackend.figure_format = 'retina'\n",
    "\n",
    "    plt.style.use('ggplot')\n",
    "    plt.rcParams['figure.figsize'] = [16, 8]\n",
    "    plt.rcParams['font.size'] = 24\n",
    "\n",
    "#     display(HTML('<style>.container { width:100% !important; }</style>'))\n",
    "#     pd.options.display.max_columns = None\n",
    "#     pd.options.display.max_rows = None\n",
    "#     pd.options.display.float_format = '{:,.4f}'.format\n",
    "#     pd.set_option('display.expand_frame_repr', False)\n",
    "#     pd.set_option('display.max_columns', None)\n",
    "#     pd.set_option('display.max_rows', None)\n",
    "\n",
    "    sns.set()\n",
    "    \n",
    "jupyter_settings()\n",
    "\n",
    "# imbalanced metrics ( balanced accuracy and kappa score )\n",
    "def imbalanced_metrics( model_name, y_val, yhat ):\n",
    "    # Balanced Accuracy\n",
    "    balanced_accuracy = m.balanced_accuracy_score( y_val, yhat)\n",
    "    \n",
    "    # Kappa Score\n",
    "    kappa_score = m.cohen_kappa_score( y_val, yhat )\n",
    "    \n",
    "    return pd.DataFrame({\"balanced_accuracy\": \"{}\".format(np.round(balanced_accuracy,3)),\n",
    "                         \"kappa_score\": \"{}\".format(np.round(kappa_score,3))}, index=[model_name])\n",
    "\n",
    "# cross validation neural networks\n",
    "def cross_validation(model_name, model, x, y, epochs=100, verbose=0):\n",
    "    \n",
    "    balanced_accuracy_list = []\n",
    "    kappa_score_list = []\n",
    "\n",
    "    skf = ms.StratifiedKFold(n_splits=5, shuffle=True, random_state=42)\n",
    "    \n",
    "    for train_index, test_index in skf.split(x, y):\n",
    "        \n",
    "        x_train_cv = x.iloc[train_index]\n",
    "        y_train_cv = y.iloc[train_index]\n",
    "        \n",
    "        x_test_cv = x.iloc[test_index]\n",
    "        y_test_cv = y.iloc[test_index]\n",
    "        \n",
    "        # target variable encoding\n",
    "        ohe = pp.OneHotEncoder()\n",
    "        y_train_cv = ohe.fit_transform( y_train_cv.values.reshape( -1, 1 ) ).toarray()\n",
    "        \n",
    "        # model training\n",
    "        model.fit(x_train_cv, y_train_cv, epochs=epochs, verbose=verbose )\n",
    "        \n",
    "        # prediction\n",
    "        pred = model.predict(x_test_cv)\n",
    "        yhat = ohe.inverse_transform( pred )\n",
    "        \n",
    "        # metrics\n",
    "        balanced_accuracy_list.append( m.balanced_accuracy_score( y_test_cv, yhat) )\n",
    "        kappa_score_list.append( m.cohen_kappa_score( y_test_cv, yhat ) )\n",
    "        \n",
    "    \n",
    "    balanced_accuracy_mean, balanced_accuracy_std = np.round( np.mean( balanced_accuracy_list ), 2 ), np.round( np.std( balanced_accuracy_list ), 2 )\n",
    "    kappa_score_mean, kappa_score_std = np.round( np.mean( kappa_score_list ), 2 ), np.round( np.std( kappa_score_list ), 2 )\n",
    "   \n",
    "    \n",
    "    return pd.DataFrame({\"Balanced_Accuracy:\": \"{} +/- {}\".format(balanced_accuracy_mean, balanced_accuracy_std),\n",
    "                         \"Kappa_Score\": \"{} +/- {}\".format(kappa_score_mean, kappa_score_std)}, index=[model_name])"
   ]
  },
  {
   "cell_type": "markdown",
   "id": "876addc3",
   "metadata": {},
   "source": [
    "## 0.2. Reading Data"
   ]
  },
  {
   "cell_type": "code",
   "execution_count": 251,
   "id": "d13bce40",
   "metadata": {
    "ExecuteTime": {
     "end_time": "2022-04-09T20:33:30.531200Z",
     "start_time": "2022-04-09T20:33:30.074769Z"
    }
   },
   "outputs": [],
   "source": [
    "df_raw = pd.read_csv( \"../datasets/train_users_2.csv\" )"
   ]
  },
  {
   "cell_type": "markdown",
   "id": "9ec99871",
   "metadata": {},
   "source": [
    "# 1.0. DATA DESCRIPTION"
   ]
  },
  {
   "cell_type": "code",
   "execution_count": 252,
   "id": "87458d79",
   "metadata": {
    "ExecuteTime": {
     "end_time": "2022-04-09T20:33:30.562401Z",
     "start_time": "2022-04-09T20:33:30.534008Z"
    }
   },
   "outputs": [],
   "source": [
    "df1 = df_raw.copy()"
   ]
  },
  {
   "cell_type": "markdown",
   "id": "ea99d2b6",
   "metadata": {},
   "source": [
    "## 1.1. Columns Descriptions"
   ]
  },
  {
   "cell_type": "code",
   "execution_count": 253,
   "id": "d40cb9e2",
   "metadata": {
    "ExecuteTime": {
     "end_time": "2022-04-09T20:33:30.842617Z",
     "start_time": "2022-04-09T20:33:30.834140Z"
    }
   },
   "outputs": [
    {
     "data": {
      "text/plain": [
       "Index(['id', 'date_account_created', 'timestamp_first_active',\n",
       "       'date_first_booking', 'gender', 'age', 'signup_method', 'signup_flow',\n",
       "       'language', 'affiliate_channel', 'affiliate_provider',\n",
       "       'first_affiliate_tracked', 'signup_app', 'first_device_type',\n",
       "       'first_browser', 'country_destination'],\n",
       "      dtype='object')"
      ]
     },
     "execution_count": 253,
     "metadata": {},
     "output_type": "execute_result"
    }
   ],
   "source": [
    "df1.columns"
   ]
  },
  {
   "cell_type": "markdown",
   "id": "2cb1ae61",
   "metadata": {},
   "source": [
    "- **id:** user id\n",
    "\n",
    "- **date_account_created:** the date of account creation\n",
    "\n",
    "- **timestamp_first_active:** timestamp of the first activity, note that it can be earlier than date_account_created or -date_first_booking because a user can search before signing up\n",
    "\n",
    "- **date_first_booking: date of first booking**\n",
    "\n",
    "- **gender**\n",
    "\n",
    "- **age**\n",
    "\n",
    "- **signup_method**\n",
    "\n",
    "- **signup_flow:** the page a user came to signup up from\n",
    "\n",
    "- **language:** international language preference\n",
    "\n",
    "- **affiliate_channel:** what kind of paid marketing\n",
    "\n",
    "- **affiliate_provider:** where the marketing is e.g. google, craigslist, other\n",
    "\n",
    "- **first_affiliate_tracked:** whats the first marketing the user interacted with before the signing up\n",
    "\n",
    "- **signup_app**\n",
    "\n",
    "- **first_device_type**\n",
    "\n",
    "- **first_browser**\n",
    "\n",
    "- **country_destination:** this is the target variable to predict"
   ]
  },
  {
   "cell_type": "markdown",
   "id": "ac715231",
   "metadata": {},
   "source": [
    "### 1.1.1. Rename Columns"
   ]
  },
  {
   "cell_type": "markdown",
   "id": "e1eab8cc",
   "metadata": {},
   "source": [
    "No need, they're already on snakecase."
   ]
  },
  {
   "cell_type": "markdown",
   "id": "956821a5",
   "metadata": {
    "ExecuteTime": {
     "end_time": "2022-04-07T21:54:31.007623Z",
     "start_time": "2022-04-07T21:54:30.995975Z"
    }
   },
   "source": [
    "## 1.2. Data Dimensions"
   ]
  },
  {
   "cell_type": "code",
   "execution_count": 254,
   "id": "a6a0a1db",
   "metadata": {
    "ExecuteTime": {
     "end_time": "2022-04-09T20:33:31.993374Z",
     "start_time": "2022-04-09T20:33:31.977182Z"
    }
   },
   "outputs": [
    {
     "name": "stdout",
     "output_type": "stream",
     "text": [
      "Number of rows: 213451\n",
      "Number of columns: 16\n"
     ]
    }
   ],
   "source": [
    "print( 'Number of rows: {}'.format( df1.shape[0] ) )\n",
    "print( 'Number of columns: {}'.format( df1.shape[1] ) )"
   ]
  },
  {
   "cell_type": "markdown",
   "id": "80ca16c4",
   "metadata": {},
   "source": [
    "## 1.3. NA Check"
   ]
  },
  {
   "cell_type": "code",
   "execution_count": 255,
   "id": "f090df9a",
   "metadata": {
    "ExecuteTime": {
     "end_time": "2022-04-09T20:33:32.731881Z",
     "start_time": "2022-04-09T20:33:32.407262Z"
    }
   },
   "outputs": [
    {
     "data": {
      "text/plain": [
       "id                              0\n",
       "date_account_created            0\n",
       "timestamp_first_active          0\n",
       "date_first_booking         124543\n",
       "gender                          0\n",
       "age                         87990\n",
       "signup_method                   0\n",
       "signup_flow                     0\n",
       "language                        0\n",
       "affiliate_channel               0\n",
       "affiliate_provider              0\n",
       "first_affiliate_tracked      6065\n",
       "signup_app                      0\n",
       "first_device_type               0\n",
       "first_browser                   0\n",
       "country_destination             0\n",
       "dtype: int64"
      ]
     },
     "execution_count": 255,
     "metadata": {},
     "output_type": "execute_result"
    }
   ],
   "source": [
    "df1.isna().sum()"
   ]
  },
  {
   "cell_type": "markdown",
   "id": "342ccb54",
   "metadata": {},
   "source": [
    "### 1.3.1. NA Fulfill"
   ]
  },
  {
   "cell_type": "code",
   "execution_count": 256,
   "id": "cf3f4522",
   "metadata": {
    "ExecuteTime": {
     "end_time": "2022-04-09T20:33:33.123207Z",
     "start_time": "2022-04-09T20:33:32.810964Z"
    }
   },
   "outputs": [],
   "source": [
    "# date first booking - max booking time\n",
    "df1['date_first_booking'] = pd.to_datetime( df1['date_first_booking'] )\n",
    "df1['date_first_booking'] = df1['date_first_booking'].fillna( df1['date_first_booking'].max() )\n",
    "\n",
    "# age - median age\n",
    "df1 = df1[ (df1['age'] > 18) & (df1['age'] < 100) ]\n",
    "df1['age'] = df1['age'].fillna( df1['age'].mean() )\n",
    "\n",
    "# first affiliate tracked - drop\n",
    "df1 = df1.dropna()"
   ]
  },
  {
   "cell_type": "markdown",
   "id": "0bafdb7f",
   "metadata": {},
   "source": [
    "## 1.4. Data Types"
   ]
  },
  {
   "cell_type": "code",
   "execution_count": 257,
   "id": "4c42e7fb",
   "metadata": {
    "ExecuteTime": {
     "end_time": "2022-04-09T20:33:33.217448Z",
     "start_time": "2022-04-09T20:33:33.196903Z"
    },
    "scrolled": true
   },
   "outputs": [
    {
     "data": {
      "text/plain": [
       "id                                 object\n",
       "date_account_created               object\n",
       "timestamp_first_active              int64\n",
       "date_first_booking         datetime64[ns]\n",
       "gender                             object\n",
       "age                               float64\n",
       "signup_method                      object\n",
       "signup_flow                         int64\n",
       "language                           object\n",
       "affiliate_channel                  object\n",
       "affiliate_provider                 object\n",
       "first_affiliate_tracked            object\n",
       "signup_app                         object\n",
       "first_device_type                  object\n",
       "first_browser                      object\n",
       "country_destination                object\n",
       "dtype: object"
      ]
     },
     "execution_count": 257,
     "metadata": {},
     "output_type": "execute_result"
    }
   ],
   "source": [
    "df1.dtypes"
   ]
  },
  {
   "cell_type": "markdown",
   "id": "da58965a",
   "metadata": {},
   "source": [
    "### 1.4.1. Change types"
   ]
  },
  {
   "cell_type": "code",
   "execution_count": 258,
   "id": "f003b6c0",
   "metadata": {
    "ExecuteTime": {
     "end_time": "2022-04-09T20:33:33.610990Z",
     "start_time": "2022-04-09T20:33:33.580287Z"
    }
   },
   "outputs": [
    {
     "data": {
      "text/html": [
       "<div>\n",
       "<style scoped>\n",
       "    .dataframe tbody tr th:only-of-type {\n",
       "        vertical-align: middle;\n",
       "    }\n",
       "\n",
       "    .dataframe tbody tr th {\n",
       "        vertical-align: top;\n",
       "    }\n",
       "\n",
       "    .dataframe thead th {\n",
       "        text-align: right;\n",
       "    }\n",
       "</style>\n",
       "<table border=\"1\" class=\"dataframe\">\n",
       "  <thead>\n",
       "    <tr style=\"text-align: right;\">\n",
       "      <th></th>\n",
       "      <th>id</th>\n",
       "      <th>date_account_created</th>\n",
       "      <th>timestamp_first_active</th>\n",
       "      <th>date_first_booking</th>\n",
       "      <th>gender</th>\n",
       "      <th>age</th>\n",
       "      <th>signup_method</th>\n",
       "      <th>signup_flow</th>\n",
       "      <th>language</th>\n",
       "      <th>affiliate_channel</th>\n",
       "      <th>affiliate_provider</th>\n",
       "      <th>first_affiliate_tracked</th>\n",
       "      <th>signup_app</th>\n",
       "      <th>first_device_type</th>\n",
       "      <th>first_browser</th>\n",
       "      <th>country_destination</th>\n",
       "    </tr>\n",
       "  </thead>\n",
       "  <tbody>\n",
       "    <tr>\n",
       "      <th>1</th>\n",
       "      <td>820tgsjxq7</td>\n",
       "      <td>2011-05-25</td>\n",
       "      <td>20090523174809</td>\n",
       "      <td>2015-06-29</td>\n",
       "      <td>MALE</td>\n",
       "      <td>38.000</td>\n",
       "      <td>facebook</td>\n",
       "      <td>0</td>\n",
       "      <td>en</td>\n",
       "      <td>seo</td>\n",
       "      <td>google</td>\n",
       "      <td>untracked</td>\n",
       "      <td>Web</td>\n",
       "      <td>Mac Desktop</td>\n",
       "      <td>Chrome</td>\n",
       "      <td>NDF</td>\n",
       "    </tr>\n",
       "    <tr>\n",
       "      <th>2</th>\n",
       "      <td>4ft3gnwmtx</td>\n",
       "      <td>2010-09-28</td>\n",
       "      <td>20090609231247</td>\n",
       "      <td>2010-08-02</td>\n",
       "      <td>FEMALE</td>\n",
       "      <td>56.000</td>\n",
       "      <td>basic</td>\n",
       "      <td>3</td>\n",
       "      <td>en</td>\n",
       "      <td>direct</td>\n",
       "      <td>direct</td>\n",
       "      <td>untracked</td>\n",
       "      <td>Web</td>\n",
       "      <td>Windows Desktop</td>\n",
       "      <td>IE</td>\n",
       "      <td>US</td>\n",
       "    </tr>\n",
       "    <tr>\n",
       "      <th>3</th>\n",
       "      <td>bjjt8pjhuk</td>\n",
       "      <td>2011-12-05</td>\n",
       "      <td>20091031060129</td>\n",
       "      <td>2012-09-08</td>\n",
       "      <td>FEMALE</td>\n",
       "      <td>42.000</td>\n",
       "      <td>facebook</td>\n",
       "      <td>0</td>\n",
       "      <td>en</td>\n",
       "      <td>direct</td>\n",
       "      <td>direct</td>\n",
       "      <td>untracked</td>\n",
       "      <td>Web</td>\n",
       "      <td>Mac Desktop</td>\n",
       "      <td>Firefox</td>\n",
       "      <td>other</td>\n",
       "    </tr>\n",
       "    <tr>\n",
       "      <th>4</th>\n",
       "      <td>87mebub9p4</td>\n",
       "      <td>2010-09-14</td>\n",
       "      <td>20091208061105</td>\n",
       "      <td>2010-02-18</td>\n",
       "      <td>-unknown-</td>\n",
       "      <td>41.000</td>\n",
       "      <td>basic</td>\n",
       "      <td>0</td>\n",
       "      <td>en</td>\n",
       "      <td>direct</td>\n",
       "      <td>direct</td>\n",
       "      <td>untracked</td>\n",
       "      <td>Web</td>\n",
       "      <td>Mac Desktop</td>\n",
       "      <td>Chrome</td>\n",
       "      <td>US</td>\n",
       "    </tr>\n",
       "    <tr>\n",
       "      <th>6</th>\n",
       "      <td>lsw9q7uk0j</td>\n",
       "      <td>2010-01-02</td>\n",
       "      <td>20100102012558</td>\n",
       "      <td>2010-01-05</td>\n",
       "      <td>FEMALE</td>\n",
       "      <td>46.000</td>\n",
       "      <td>basic</td>\n",
       "      <td>0</td>\n",
       "      <td>en</td>\n",
       "      <td>other</td>\n",
       "      <td>craigslist</td>\n",
       "      <td>untracked</td>\n",
       "      <td>Web</td>\n",
       "      <td>Mac Desktop</td>\n",
       "      <td>Safari</td>\n",
       "      <td>US</td>\n",
       "    </tr>\n",
       "  </tbody>\n",
       "</table>\n",
       "</div>"
      ],
      "text/plain": [
       "           id date_account_created  timestamp_first_active date_first_booking  \\\n",
       "1  820tgsjxq7           2011-05-25          20090523174809         2015-06-29   \n",
       "2  4ft3gnwmtx           2010-09-28          20090609231247         2010-08-02   \n",
       "3  bjjt8pjhuk           2011-12-05          20091031060129         2012-09-08   \n",
       "4  87mebub9p4           2010-09-14          20091208061105         2010-02-18   \n",
       "6  lsw9q7uk0j           2010-01-02          20100102012558         2010-01-05   \n",
       "\n",
       "      gender    age signup_method  signup_flow language affiliate_channel  \\\n",
       "1       MALE 38.000      facebook            0       en               seo   \n",
       "2     FEMALE 56.000         basic            3       en            direct   \n",
       "3     FEMALE 42.000      facebook            0       en            direct   \n",
       "4  -unknown- 41.000         basic            0       en            direct   \n",
       "6     FEMALE 46.000         basic            0       en             other   \n",
       "\n",
       "  affiliate_provider first_affiliate_tracked signup_app first_device_type  \\\n",
       "1             google               untracked        Web       Mac Desktop   \n",
       "2             direct               untracked        Web   Windows Desktop   \n",
       "3             direct               untracked        Web       Mac Desktop   \n",
       "4             direct               untracked        Web       Mac Desktop   \n",
       "6         craigslist               untracked        Web       Mac Desktop   \n",
       "\n",
       "  first_browser country_destination  \n",
       "1        Chrome                 NDF  \n",
       "2            IE                  US  \n",
       "3       Firefox               other  \n",
       "4        Chrome                  US  \n",
       "6        Safari                  US  "
      ]
     },
     "execution_count": 258,
     "metadata": {},
     "output_type": "execute_result"
    }
   ],
   "source": [
    "df1.head()"
   ]
  },
  {
   "cell_type": "code",
   "execution_count": 259,
   "id": "df3dccdb",
   "metadata": {
    "ExecuteTime": {
     "end_time": "2022-04-09T20:33:33.688116Z",
     "start_time": "2022-04-09T20:33:33.620963Z"
    }
   },
   "outputs": [],
   "source": [
    "# date account created - datetime\n",
    "df1['date_account_created'] = pd.to_datetime( df1['date_account_created'] )\n",
    "\n",
    "# timestamp first active - datetime\n",
    "df1['timestamp_first_active'] = pd.to_datetime( df1['timestamp_first_active'], format='%Y-%m-%d %H:%M:%S' )\n",
    "\n",
    "# age - int\n",
    "df1['age'] = df1['age'].astype( 'int64' )"
   ]
  },
  {
   "cell_type": "markdown",
   "id": "c159b7e7",
   "metadata": {},
   "source": [
    "## 1.5. Data Proportion"
   ]
  },
  {
   "cell_type": "code",
   "execution_count": 260,
   "id": "466c5dc3",
   "metadata": {
    "ExecuteTime": {
     "end_time": "2022-04-09T20:33:34.047095Z",
     "start_time": "2022-04-09T20:33:34.023705Z"
    }
   },
   "outputs": [
    {
     "data": {
      "text/plain": [
       "NDF     0.448\n",
       "US      0.392\n",
       "other   0.061\n",
       "FR      0.030\n",
       "IT      0.016\n",
       "GB      0.014\n",
       "ES      0.014\n",
       "CA      0.009\n",
       "DE      0.007\n",
       "NL      0.005\n",
       "AU      0.004\n",
       "PT      0.001\n",
       "Name: country_destination, dtype: float64"
      ]
     },
     "execution_count": 260,
     "metadata": {},
     "output_type": "execute_result"
    }
   ],
   "source": [
    "df1['country_destination'].value_counts( normalize=True )"
   ]
  },
  {
   "cell_type": "markdown",
   "id": "ba9fe811",
   "metadata": {},
   "source": [
    "We clearly have Imbalanced Data, wich will affect the models."
   ]
  },
  {
   "cell_type": "markdown",
   "id": "20835490",
   "metadata": {},
   "source": [
    "## 1.6. Descriptive Statistics"
   ]
  },
  {
   "cell_type": "code",
   "execution_count": 261,
   "id": "fc2acc32",
   "metadata": {
    "ExecuteTime": {
     "end_time": "2022-04-09T20:33:34.920699Z",
     "start_time": "2022-04-09T20:33:34.900090Z"
    }
   },
   "outputs": [],
   "source": [
    "df_num = df1[['age','signup_flow']]\n",
    "df_cat = df1.select_dtypes( exclude=['int64','datetime64[ns]'] )"
   ]
  },
  {
   "cell_type": "markdown",
   "id": "8b5c7a19",
   "metadata": {},
   "source": [
    "### 1.6.1. Numerical Attributes"
   ]
  },
  {
   "cell_type": "code",
   "execution_count": 262,
   "id": "36c88eae",
   "metadata": {
    "ExecuteTime": {
     "end_time": "2022-04-09T20:33:35.374347Z",
     "start_time": "2022-04-09T20:33:35.324208Z"
    }
   },
   "outputs": [
    {
     "data": {
      "text/html": [
       "<div>\n",
       "<style scoped>\n",
       "    .dataframe tbody tr th:only-of-type {\n",
       "        vertical-align: middle;\n",
       "    }\n",
       "\n",
       "    .dataframe tbody tr th {\n",
       "        vertical-align: top;\n",
       "    }\n",
       "\n",
       "    .dataframe thead th {\n",
       "        text-align: right;\n",
       "    }\n",
       "</style>\n",
       "<table border=\"1\" class=\"dataframe\">\n",
       "  <thead>\n",
       "    <tr style=\"text-align: right;\">\n",
       "      <th></th>\n",
       "      <th>min</th>\n",
       "      <th>max</th>\n",
       "      <th>range</th>\n",
       "      <th>mean</th>\n",
       "      <th>median</th>\n",
       "      <th>std</th>\n",
       "      <th>skewness</th>\n",
       "      <th>kurtosis</th>\n",
       "    </tr>\n",
       "  </thead>\n",
       "  <tbody>\n",
       "    <tr>\n",
       "      <th>age</th>\n",
       "      <td>19.000</td>\n",
       "      <td>99.000</td>\n",
       "      <td>80.000</td>\n",
       "      <td>36.636</td>\n",
       "      <td>34.000</td>\n",
       "      <td>11.584</td>\n",
       "      <td>1.265</td>\n",
       "      <td>1.792</td>\n",
       "    </tr>\n",
       "    <tr>\n",
       "      <th>signup_flow</th>\n",
       "      <td>0.000</td>\n",
       "      <td>25.000</td>\n",
       "      <td>25.000</td>\n",
       "      <td>2.528</td>\n",
       "      <td>0.000</td>\n",
       "      <td>6.613</td>\n",
       "      <td>2.699</td>\n",
       "      <td>5.892</td>\n",
       "    </tr>\n",
       "  </tbody>\n",
       "</table>\n",
       "</div>"
      ],
      "text/plain": [
       "               min    max  range   mean  median    std  skewness  kurtosis\n",
       "age         19.000 99.000 80.000 36.636  34.000 11.584     1.265     1.792\n",
       "signup_flow  0.000 25.000 25.000  2.528   0.000  6.613     2.699     5.892"
      ]
     },
     "execution_count": 262,
     "metadata": {},
     "output_type": "execute_result"
    }
   ],
   "source": [
    "pd.set_option('display.float_format', lambda x: '%.3f' % x)\n",
    "\n",
    "# central tendency - mean, median\n",
    "ct1 = pd.DataFrame( df_num.apply( lambda x: np.mean( x ) ) ).T\n",
    "ct2 = pd.DataFrame( df_num.apply( lambda x: np.median( x ) ) ).T\n",
    "\n",
    "# dispersion metrics - min, max, range, std, skewness, kurtosis\n",
    "dm1 = pd.DataFrame( df_num.apply( lambda x: np.min( x ) ) ).T\n",
    "dm2 = pd.DataFrame( df_num.apply( lambda x: np.max( x ) ) ).T\n",
    "dm3 = pd.DataFrame( df_num.apply( lambda x: np.max( x ) - np.min( x ) ) ).T\n",
    "dm4 = pd.DataFrame( df_num.apply( lambda x: np.std( x ) ) ).T\n",
    "dm5 = pd.DataFrame( df_num.apply( lambda x: x.skew() ) ).T\n",
    "dm6 = pd.DataFrame( df_num.apply( lambda x: x.kurtosis() ) ).T\n",
    "\n",
    "# concat\n",
    "df_description = pd.concat( [ dm1, dm2, dm3, ct1, ct2, dm4, dm5, dm6 ] ).T\n",
    "df_description.columns = ( 'min', 'max', 'range', 'mean', 'median', 'std', 'skewness', 'kurtosis' )\n",
    "df_description"
   ]
  },
  {
   "cell_type": "markdown",
   "id": "82fa214e",
   "metadata": {},
   "source": [
    "**Problems:**\n",
    "\n",
    "- Age range ( filtered on NA fulfill )"
   ]
  },
  {
   "cell_type": "markdown",
   "id": "9a1b061d",
   "metadata": {},
   "source": [
    "### 1.6.2. Categorical Attributes"
   ]
  },
  {
   "cell_type": "code",
   "execution_count": 263,
   "id": "9f6e8b90",
   "metadata": {
    "ExecuteTime": {
     "end_time": "2022-04-09T20:33:36.030552Z",
     "start_time": "2022-04-09T20:33:35.885182Z"
    }
   },
   "outputs": [
    {
     "data": {
      "text/html": [
       "<div>\n",
       "<style scoped>\n",
       "    .dataframe tbody tr th:only-of-type {\n",
       "        vertical-align: middle;\n",
       "    }\n",
       "\n",
       "    .dataframe tbody tr th {\n",
       "        vertical-align: top;\n",
       "    }\n",
       "\n",
       "    .dataframe thead th {\n",
       "        text-align: right;\n",
       "    }\n",
       "</style>\n",
       "<table border=\"1\" class=\"dataframe\">\n",
       "  <thead>\n",
       "    <tr style=\"text-align: right;\">\n",
       "      <th></th>\n",
       "      <th>gender</th>\n",
       "      <th>signup_method</th>\n",
       "      <th>language</th>\n",
       "      <th>affiliate_channel</th>\n",
       "      <th>affiliate_provider</th>\n",
       "      <th>first_affiliate_tracked</th>\n",
       "      <th>signup_app</th>\n",
       "      <th>first_device_type</th>\n",
       "      <th>first_browser</th>\n",
       "      <th>country_destination</th>\n",
       "    </tr>\n",
       "  </thead>\n",
       "  <tbody>\n",
       "    <tr>\n",
       "      <th>count</th>\n",
       "      <td>120307</td>\n",
       "      <td>120307</td>\n",
       "      <td>120307</td>\n",
       "      <td>120307</td>\n",
       "      <td>120307</td>\n",
       "      <td>120307</td>\n",
       "      <td>120307</td>\n",
       "      <td>120307</td>\n",
       "      <td>120307</td>\n",
       "      <td>120307</td>\n",
       "    </tr>\n",
       "    <tr>\n",
       "      <th>unique</th>\n",
       "      <td>4</td>\n",
       "      <td>3</td>\n",
       "      <td>25</td>\n",
       "      <td>8</td>\n",
       "      <td>17</td>\n",
       "      <td>7</td>\n",
       "      <td>4</td>\n",
       "      <td>9</td>\n",
       "      <td>41</td>\n",
       "      <td>12</td>\n",
       "    </tr>\n",
       "    <tr>\n",
       "      <th>top</th>\n",
       "      <td>FEMALE</td>\n",
       "      <td>basic</td>\n",
       "      <td>en</td>\n",
       "      <td>direct</td>\n",
       "      <td>direct</td>\n",
       "      <td>untracked</td>\n",
       "      <td>Web</td>\n",
       "      <td>Mac Desktop</td>\n",
       "      <td>Chrome</td>\n",
       "      <td>NDF</td>\n",
       "    </tr>\n",
       "    <tr>\n",
       "      <th>freq</th>\n",
       "      <td>55595</td>\n",
       "      <td>64292</td>\n",
       "      <td>116000</td>\n",
       "      <td>77609</td>\n",
       "      <td>77472</td>\n",
       "      <td>63533</td>\n",
       "      <td>106154</td>\n",
       "      <td>56826</td>\n",
       "      <td>41035</td>\n",
       "      <td>53851</td>\n",
       "    </tr>\n",
       "  </tbody>\n",
       "</table>\n",
       "</div>"
      ],
      "text/plain": [
       "        gender signup_method language affiliate_channel affiliate_provider  \\\n",
       "count   120307        120307   120307            120307             120307   \n",
       "unique       4             3       25                 8                 17   \n",
       "top     FEMALE         basic       en            direct             direct   \n",
       "freq     55595         64292   116000             77609              77472   \n",
       "\n",
       "       first_affiliate_tracked signup_app first_device_type first_browser  \\\n",
       "count                   120307     120307            120307        120307   \n",
       "unique                       7          4                 9            41   \n",
       "top                  untracked        Web       Mac Desktop        Chrome   \n",
       "freq                     63533     106154             56826         41035   \n",
       "\n",
       "       country_destination  \n",
       "count               120307  \n",
       "unique                  12  \n",
       "top                    NDF  \n",
       "freq                 53851  "
      ]
     },
     "execution_count": 263,
     "metadata": {},
     "output_type": "execute_result"
    }
   ],
   "source": [
    "df_cat.drop( columns=['id'] ).describe()"
   ]
  },
  {
   "cell_type": "markdown",
   "id": "8dd4b3c1",
   "metadata": {},
   "source": [
    "# 2.0. DATA FILTERING"
   ]
  },
  {
   "cell_type": "code",
   "execution_count": 264,
   "id": "bf3b7038",
   "metadata": {
    "ExecuteTime": {
     "end_time": "2022-04-09T20:33:36.279983Z",
     "start_time": "2022-04-09T20:33:36.260188Z"
    }
   },
   "outputs": [],
   "source": [
    "df2 = df1.copy()"
   ]
  },
  {
   "cell_type": "markdown",
   "id": "97b17ae9",
   "metadata": {},
   "source": [
    "# 3.0. FEATURE ENGINEERING"
   ]
  },
  {
   "cell_type": "code",
   "execution_count": 265,
   "id": "b1551f7d",
   "metadata": {
    "ExecuteTime": {
     "end_time": "2022-04-09T20:33:37.982896Z",
     "start_time": "2022-04-09T20:33:37.958143Z"
    }
   },
   "outputs": [],
   "source": [
    "df3 = df2.copy()"
   ]
  },
  {
   "cell_type": "code",
   "execution_count": 266,
   "id": "a25bc2e3",
   "metadata": {
    "ExecuteTime": {
     "end_time": "2022-04-09T20:33:39.025503Z",
     "start_time": "2022-04-09T20:33:39.005293Z"
    }
   },
   "outputs": [
    {
     "data": {
      "text/html": [
       "<div>\n",
       "<style scoped>\n",
       "    .dataframe tbody tr th:only-of-type {\n",
       "        vertical-align: middle;\n",
       "    }\n",
       "\n",
       "    .dataframe tbody tr th {\n",
       "        vertical-align: top;\n",
       "    }\n",
       "\n",
       "    .dataframe thead th {\n",
       "        text-align: right;\n",
       "    }\n",
       "</style>\n",
       "<table border=\"1\" class=\"dataframe\">\n",
       "  <thead>\n",
       "    <tr style=\"text-align: right;\">\n",
       "      <th></th>\n",
       "      <th>id</th>\n",
       "      <th>date_account_created</th>\n",
       "      <th>timestamp_first_active</th>\n",
       "      <th>date_first_booking</th>\n",
       "      <th>gender</th>\n",
       "      <th>age</th>\n",
       "      <th>signup_method</th>\n",
       "      <th>signup_flow</th>\n",
       "      <th>language</th>\n",
       "      <th>affiliate_channel</th>\n",
       "      <th>affiliate_provider</th>\n",
       "      <th>first_affiliate_tracked</th>\n",
       "      <th>signup_app</th>\n",
       "      <th>first_device_type</th>\n",
       "      <th>first_browser</th>\n",
       "      <th>country_destination</th>\n",
       "    </tr>\n",
       "  </thead>\n",
       "  <tbody>\n",
       "    <tr>\n",
       "      <th>1</th>\n",
       "      <td>820tgsjxq7</td>\n",
       "      <td>2011-05-25</td>\n",
       "      <td>1970-01-01 05:34:50.523174809</td>\n",
       "      <td>2015-06-29</td>\n",
       "      <td>MALE</td>\n",
       "      <td>38</td>\n",
       "      <td>facebook</td>\n",
       "      <td>0</td>\n",
       "      <td>en</td>\n",
       "      <td>seo</td>\n",
       "      <td>google</td>\n",
       "      <td>untracked</td>\n",
       "      <td>Web</td>\n",
       "      <td>Mac Desktop</td>\n",
       "      <td>Chrome</td>\n",
       "      <td>NDF</td>\n",
       "    </tr>\n",
       "    <tr>\n",
       "      <th>2</th>\n",
       "      <td>4ft3gnwmtx</td>\n",
       "      <td>2010-09-28</td>\n",
       "      <td>1970-01-01 05:34:50.609231247</td>\n",
       "      <td>2010-08-02</td>\n",
       "      <td>FEMALE</td>\n",
       "      <td>56</td>\n",
       "      <td>basic</td>\n",
       "      <td>3</td>\n",
       "      <td>en</td>\n",
       "      <td>direct</td>\n",
       "      <td>direct</td>\n",
       "      <td>untracked</td>\n",
       "      <td>Web</td>\n",
       "      <td>Windows Desktop</td>\n",
       "      <td>IE</td>\n",
       "      <td>US</td>\n",
       "    </tr>\n",
       "    <tr>\n",
       "      <th>3</th>\n",
       "      <td>bjjt8pjhuk</td>\n",
       "      <td>2011-12-05</td>\n",
       "      <td>1970-01-01 05:34:51.031060129</td>\n",
       "      <td>2012-09-08</td>\n",
       "      <td>FEMALE</td>\n",
       "      <td>42</td>\n",
       "      <td>facebook</td>\n",
       "      <td>0</td>\n",
       "      <td>en</td>\n",
       "      <td>direct</td>\n",
       "      <td>direct</td>\n",
       "      <td>untracked</td>\n",
       "      <td>Web</td>\n",
       "      <td>Mac Desktop</td>\n",
       "      <td>Firefox</td>\n",
       "      <td>other</td>\n",
       "    </tr>\n",
       "    <tr>\n",
       "      <th>4</th>\n",
       "      <td>87mebub9p4</td>\n",
       "      <td>2010-09-14</td>\n",
       "      <td>1970-01-01 05:34:51.208061105</td>\n",
       "      <td>2010-02-18</td>\n",
       "      <td>-unknown-</td>\n",
       "      <td>41</td>\n",
       "      <td>basic</td>\n",
       "      <td>0</td>\n",
       "      <td>en</td>\n",
       "      <td>direct</td>\n",
       "      <td>direct</td>\n",
       "      <td>untracked</td>\n",
       "      <td>Web</td>\n",
       "      <td>Mac Desktop</td>\n",
       "      <td>Chrome</td>\n",
       "      <td>US</td>\n",
       "    </tr>\n",
       "    <tr>\n",
       "      <th>6</th>\n",
       "      <td>lsw9q7uk0j</td>\n",
       "      <td>2010-01-02</td>\n",
       "      <td>1970-01-01 05:35:00.102012558</td>\n",
       "      <td>2010-01-05</td>\n",
       "      <td>FEMALE</td>\n",
       "      <td>46</td>\n",
       "      <td>basic</td>\n",
       "      <td>0</td>\n",
       "      <td>en</td>\n",
       "      <td>other</td>\n",
       "      <td>craigslist</td>\n",
       "      <td>untracked</td>\n",
       "      <td>Web</td>\n",
       "      <td>Mac Desktop</td>\n",
       "      <td>Safari</td>\n",
       "      <td>US</td>\n",
       "    </tr>\n",
       "  </tbody>\n",
       "</table>\n",
       "</div>"
      ],
      "text/plain": [
       "           id date_account_created        timestamp_first_active  \\\n",
       "1  820tgsjxq7           2011-05-25 1970-01-01 05:34:50.523174809   \n",
       "2  4ft3gnwmtx           2010-09-28 1970-01-01 05:34:50.609231247   \n",
       "3  bjjt8pjhuk           2011-12-05 1970-01-01 05:34:51.031060129   \n",
       "4  87mebub9p4           2010-09-14 1970-01-01 05:34:51.208061105   \n",
       "6  lsw9q7uk0j           2010-01-02 1970-01-01 05:35:00.102012558   \n",
       "\n",
       "  date_first_booking     gender  age signup_method  signup_flow language  \\\n",
       "1         2015-06-29       MALE   38      facebook            0       en   \n",
       "2         2010-08-02     FEMALE   56         basic            3       en   \n",
       "3         2012-09-08     FEMALE   42      facebook            0       en   \n",
       "4         2010-02-18  -unknown-   41         basic            0       en   \n",
       "6         2010-01-05     FEMALE   46         basic            0       en   \n",
       "\n",
       "  affiliate_channel affiliate_provider first_affiliate_tracked signup_app  \\\n",
       "1               seo             google               untracked        Web   \n",
       "2            direct             direct               untracked        Web   \n",
       "3            direct             direct               untracked        Web   \n",
       "4            direct             direct               untracked        Web   \n",
       "6             other         craigslist               untracked        Web   \n",
       "\n",
       "  first_device_type first_browser country_destination  \n",
       "1       Mac Desktop        Chrome                 NDF  \n",
       "2   Windows Desktop            IE                  US  \n",
       "3       Mac Desktop       Firefox               other  \n",
       "4       Mac Desktop        Chrome                  US  \n",
       "6       Mac Desktop        Safari                  US  "
      ]
     },
     "execution_count": 266,
     "metadata": {},
     "output_type": "execute_result"
    }
   ],
   "source": [
    "df3.head()"
   ]
  },
  {
   "cell_type": "code",
   "execution_count": 267,
   "id": "ff613fea",
   "metadata": {
    "ExecuteTime": {
     "end_time": "2022-04-09T20:33:43.384131Z",
     "start_time": "2022-04-09T20:33:39.051347Z"
    }
   },
   "outputs": [],
   "source": [
    "# days timestamp first active to date account created\n",
    "df3['date_first_active'] = pd.to_datetime( df3['timestamp_first_active'].dt.strftime('%Y-%m-%d') )\n",
    "df3['timestamp_first_active_to_date_account_created'] = df3['date_account_created'] - df3['date_first_active']\n",
    "df3['timestamp_first_active_to_date_account_created'] = df3['timestamp_first_active_to_date_account_created'].apply( lambda x: x.days )\n",
    "\n",
    "# days timestamp first active to date first booking\n",
    "df3['timestamp_first_active_to_date_first_booking'] = df3['date_first_booking'] - df3['date_first_active']\n",
    "df3['timestamp_first_active_to_date_first_booking'] = df3['timestamp_first_active_to_date_first_booking'].apply( lambda x: x.days )\n",
    "\n",
    "# days date account created to date first booking - CHECK NEGATIVE VALUES\n",
    "df3['account_created_to_first_booking'] = df3['date_first_booking'] - df3['date_account_created']\n",
    "df3['account_created_to_first_booking'] = df3['account_created_to_first_booking'].apply( lambda x: x.days )\n",
    "\n",
    "# ================ first active ===================\n",
    "\n",
    "# year\n",
    "df3['year_date_first_active'] = df3['date_first_active'].dt.year\n",
    "\n",
    "# month\n",
    "df3['month_date_first_active'] = df3['date_first_active'].dt.month\n",
    "\n",
    "# week\n",
    "df3['week_date_first_active'] = df3['date_first_active'].dt.week\n",
    "\n",
    "# day\n",
    "df3['day_date_first_active'] = df3['date_first_active'].dt.day\n",
    "\n",
    "# day_of_week\n",
    "df3['day_of_week_date_first_active'] = df3['date_first_active'].dt.dayofweek\n",
    "\n",
    "# ============ date account created ===============\n",
    "\n",
    "# year\n",
    "df3['year_date_account_created'] = df3['date_account_created'].dt.year\n",
    "\n",
    "# month\n",
    "df3['month_date_account_created'] = df3['date_account_created'].dt.month\n",
    "\n",
    "# week\n",
    "df3['week_date_account_created'] = df3['date_account_created'].dt.week\n",
    "\n",
    "# day\n",
    "df3['day_date_account_created'] = df3['date_account_created'].dt.day\n",
    "\n",
    "# day_of_week\n",
    "df3['day_of_week_date_account_created'] = df3['date_account_created'].dt.dayofweek\n",
    "\n",
    "# ============= date first booking ================\n",
    "\n",
    "# year\n",
    "df3['year_date_first_booking'] = df3['date_first_booking'].dt.year\n",
    "\n",
    "# month\n",
    "df3['month_date_first_booking'] = df3['date_first_booking'].dt.month\n",
    "\n",
    "# week\n",
    "df3['week_date_first_booking'] = df3['date_first_booking'].dt.week\n",
    "\n",
    "# day\n",
    "df3['day_date_first_booking'] = df3['date_first_booking'].dt.day\n",
    "\n",
    "# day_of_week\n",
    "df3['day_of_week_date_first_booking'] = df3['date_first_booking'].dt.dayofweek"
   ]
  },
  {
   "cell_type": "markdown",
   "id": "52e7ca32",
   "metadata": {},
   "source": [
    "# 4.0. EXPLORATORY DATA ANALYSIS"
   ]
  },
  {
   "cell_type": "code",
   "execution_count": 270,
   "id": "0358c4bd",
   "metadata": {
    "ExecuteTime": {
     "end_time": "2022-04-09T20:34:33.390293Z",
     "start_time": "2022-04-09T20:34:33.335502Z"
    }
   },
   "outputs": [],
   "source": [
    "df4 = df3.copy()"
   ]
  },
  {
   "cell_type": "markdown",
   "id": "a76c808a",
   "metadata": {},
   "source": [
    "# 5.0. DATA PREPARATION"
   ]
  },
  {
   "cell_type": "code",
   "execution_count": 271,
   "id": "5629f537",
   "metadata": {
    "ExecuteTime": {
     "end_time": "2022-04-09T20:34:34.920481Z",
     "start_time": "2022-04-09T20:34:34.707136Z"
    }
   },
   "outputs": [],
   "source": [
    "df5 = df4.drop( columns=['date_account_created','timestamp_first_active','date_first_booking','date_first_active'] )\n",
    "\n",
    "df5_dummies = pd.get_dummies( df5.drop( columns=['id','country_destination'] ) )\n",
    "df5 = pd.concat( [ df5[['id','country_destination']], df5_dummies ], axis=1 )"
   ]
  },
  {
   "cell_type": "markdown",
   "id": "f71a5cfa",
   "metadata": {},
   "source": [
    "# 6.0. FEATURE SELECTION"
   ]
  },
  {
   "cell_type": "code",
   "execution_count": 272,
   "id": "ff1af643",
   "metadata": {
    "ExecuteTime": {
     "end_time": "2022-04-09T20:34:36.899112Z",
     "start_time": "2022-04-09T20:34:36.845194Z"
    }
   },
   "outputs": [],
   "source": [
    "df6 = df5.copy()"
   ]
  },
  {
   "cell_type": "markdown",
   "id": "e6bd8e88",
   "metadata": {},
   "source": [
    "# 7.0. MACHINE LEARNING"
   ]
  },
  {
   "cell_type": "code",
   "execution_count": 273,
   "id": "e52103d1",
   "metadata": {
    "ExecuteTime": {
     "end_time": "2022-04-09T20:34:42.278345Z",
     "start_time": "2022-04-09T20:34:42.144680Z"
    }
   },
   "outputs": [],
   "source": [
    "X = df6.drop( columns=['id','country_destination'] )\n",
    "Y = df6['country_destination'].copy()\n",
    "\n",
    "x_train, x_val, y_train, y_val = ms.train_test_split( X, Y, test_size=0.2, random_state=42 )"
   ]
  },
  {
   "cell_type": "markdown",
   "id": "e1c18208",
   "metadata": {},
   "source": [
    "## 7.1. Random Model"
   ]
  },
  {
   "cell_type": "code",
   "execution_count": 275,
   "id": "f4350f30",
   "metadata": {
    "ExecuteTime": {
     "end_time": "2022-04-09T20:35:23.169072Z",
     "start_time": "2022-04-09T20:35:23.131398Z"
    }
   },
   "outputs": [],
   "source": [
    "country_destination_list = df6['country_destination'].drop_duplicates().sort_values().to_list()\n",
    "k = y_val.shape[0]\n",
    "weights = df1['country_destination'].value_counts( normalize=True ).sort_index().to_list()\n",
    "\n",
    "yhat_random = r.choices( population=country_destination_list,\n",
    "                         weights=weights,\n",
    "                         k=k )"
   ]
  },
  {
   "cell_type": "markdown",
   "id": "caad6542",
   "metadata": {},
   "source": [
    "### 7.1.1. Imbalanced Metrics and Confusion Matrix"
   ]
  },
  {
   "cell_type": "code",
   "execution_count": 276,
   "id": "947449ca",
   "metadata": {
    "ExecuteTime": {
     "end_time": "2022-04-09T20:35:24.452252Z",
     "start_time": "2022-04-09T20:35:24.272773Z"
    }
   },
   "outputs": [
    {
     "data": {
      "text/html": [
       "<div>\n",
       "<style scoped>\n",
       "    .dataframe tbody tr th:only-of-type {\n",
       "        vertical-align: middle;\n",
       "    }\n",
       "\n",
       "    .dataframe tbody tr th {\n",
       "        vertical-align: top;\n",
       "    }\n",
       "\n",
       "    .dataframe thead th {\n",
       "        text-align: right;\n",
       "    }\n",
       "</style>\n",
       "<table border=\"1\" class=\"dataframe\">\n",
       "  <thead>\n",
       "    <tr style=\"text-align: right;\">\n",
       "      <th></th>\n",
       "      <th>balanced_accuracy</th>\n",
       "      <th>kappa_score</th>\n",
       "    </tr>\n",
       "  </thead>\n",
       "  <tbody>\n",
       "    <tr>\n",
       "      <th>Random Model</th>\n",
       "      <td>0.084</td>\n",
       "      <td>0.002</td>\n",
       "    </tr>\n",
       "  </tbody>\n",
       "</table>\n",
       "</div>"
      ],
      "text/plain": [
       "             balanced_accuracy kappa_score\n",
       "Random Model             0.084       0.002"
      ]
     },
     "execution_count": 276,
     "metadata": {},
     "output_type": "execute_result"
    }
   ],
   "source": [
    "imbalanced_metrics( 'Random Model', y_val, yhat_random )"
   ]
  },
  {
   "cell_type": "code",
   "execution_count": 277,
   "id": "12960f21",
   "metadata": {
    "ExecuteTime": {
     "end_time": "2022-04-09T20:35:29.214203Z",
     "start_time": "2022-04-09T20:35:28.496013Z"
    }
   },
   "outputs": [
    {
     "data": {
      "image/png": "[encoded data removed]",
      "text/plain": [
       "<Figure size 1152x576 with 2 Axes>"
      ]
     },
     "metadata": {
      "image/png": {
       "height": 502,
       "width": 601
      }
     },
     "output_type": "display_data"
    }
   ],
   "source": [
    "# Confusion Matrix\n",
    "mt.plot_confusion_matrix( y_val, yhat_random, normalize=False );"
   ]
  },
  {
   "cell_type": "markdown",
   "id": "ed6e2aba",
   "metadata": {},
   "source": [
    "## 7.2. Neural Network - MLP"
   ]
  },
  {
   "cell_type": "code",
   "execution_count": 278,
   "id": "5a24bbe5",
   "metadata": {
    "ExecuteTime": {
     "end_time": "2022-04-09T20:35:31.414838Z",
     "start_time": "2022-04-09T20:35:31.360665Z"
    }
   },
   "outputs": [],
   "source": [
    "# y train preparation\n",
    "ohe = pp.OneHotEncoder()\n",
    "y_train_nn = ohe.fit_transform( y_train.values.reshape( -1, 1 ) ).toarray()"
   ]
  },
  {
   "cell_type": "code",
   "execution_count": 280,
   "id": "1ee654f5",
   "metadata": {
    "ExecuteTime": {
     "end_time": "2022-04-09T20:48:08.757610Z",
     "start_time": "2022-04-09T20:39:13.480968Z"
    }
   },
   "outputs": [
    {
     "data": {
      "text/plain": [
       "<keras.callbacks.History at 0x269855770d0>"
      ]
     },
     "execution_count": 280,
     "metadata": {},
     "output_type": "execute_result"
    }
   ],
   "source": [
    "# model definition\n",
    "model_nn = ml.Sequential()\n",
    "model_nn.add( l.Dense( 256, input_dim=x_train.shape[1], activation='relu' ) )\n",
    "model_nn.add( l.Dense( 12, activation='softmax' ) )\n",
    "\n",
    "# model compile\n",
    "model_nn.compile( loss='categorical_crossentropy', optimizer='adam', metrics=['accuracy'] )\n",
    "\n",
    "# model training\n",
    "model_nn.fit( x_train, y_train_nn, epochs=100, verbose=0 )"
   ]
  },
  {
   "cell_type": "code",
   "execution_count": 281,
   "id": "1d013acb",
   "metadata": {
    "ExecuteTime": {
     "end_time": "2022-04-09T20:48:09.839277Z",
     "start_time": "2022-04-09T20:48:08.764564Z"
    }
   },
   "outputs": [],
   "source": [
    "# prediction\n",
    "pred_nn = model_nn.predict( x_val )\n",
    "yhat_nn = ohe.inverse_transform( pred_nn )\n",
    "\n",
    "# # prediction prepare\n",
    "# y_val_nn = y_val.to_numpy()\n",
    "# yhat_nn = yhat_nn.reshape( 1, -1 )[0]"
   ]
  },
  {
   "cell_type": "markdown",
   "id": "0f405a1e",
   "metadata": {},
   "source": [
    "### 7.2.1. Imbalanced Metrics and Confusion Matrix"
   ]
  },
  {
   "cell_type": "code",
   "execution_count": 282,
   "id": "b0448c65",
   "metadata": {
    "ExecuteTime": {
     "end_time": "2022-04-09T20:48:10.060499Z",
     "start_time": "2022-04-09T20:48:09.843145Z"
    }
   },
   "outputs": [
    {
     "data": {
      "text/html": [
       "<div>\n",
       "<style scoped>\n",
       "    .dataframe tbody tr th:only-of-type {\n",
       "        vertical-align: middle;\n",
       "    }\n",
       "\n",
       "    .dataframe tbody tr th {\n",
       "        vertical-align: top;\n",
       "    }\n",
       "\n",
       "    .dataframe thead th {\n",
       "        text-align: right;\n",
       "    }\n",
       "</style>\n",
       "<table border=\"1\" class=\"dataframe\">\n",
       "  <thead>\n",
       "    <tr style=\"text-align: right;\">\n",
       "      <th></th>\n",
       "      <th>balanced_accuracy</th>\n",
       "      <th>kappa_score</th>\n",
       "    </tr>\n",
       "  </thead>\n",
       "  <tbody>\n",
       "    <tr>\n",
       "      <th>Neural Network</th>\n",
       "      <td>0.167</td>\n",
       "      <td>0.723</td>\n",
       "    </tr>\n",
       "  </tbody>\n",
       "</table>\n",
       "</div>"
      ],
      "text/plain": [
       "               balanced_accuracy kappa_score\n",
       "Neural Network             0.167       0.723"
      ]
     },
     "execution_count": 282,
     "metadata": {},
     "output_type": "execute_result"
    }
   ],
   "source": [
    "imbalanced_metrics( 'Neural Network', y_val, yhat_nn )"
   ]
  },
  {
   "cell_type": "code",
   "execution_count": 283,
   "id": "3fe86417",
   "metadata": {
    "ExecuteTime": {
     "end_time": "2022-04-09T20:48:10.885511Z",
     "start_time": "2022-04-09T20:48:10.062401Z"
    }
   },
   "outputs": [
    {
     "data": {
      "image/png": "[encoded data removed]",
      "text/plain": [
       "<Figure size 1152x576 with 2 Axes>"
      ]
     },
     "metadata": {
      "image/png": {
       "height": 502,
       "width": 607
      }
     },
     "output_type": "display_data"
    }
   ],
   "source": [
    "# Confusion Matrix\n",
    "mt.plot_confusion_matrix( y_val, yhat_nn, normalize=False );"
   ]
  },
  {
   "cell_type": "markdown",
   "id": "a798205e",
   "metadata": {},
   "source": [
    "### 7.3. Cross Validation"
   ]
  },
  {
   "cell_type": "code",
   "execution_count": 103,
   "id": "7078a6ed",
   "metadata": {
    "ExecuteTime": {
     "end_time": "2022-04-09T12:06:11.178650Z",
     "start_time": "2022-04-09T12:06:11.171208Z"
    }
   },
   "outputs": [],
   "source": [
    "# # cv\n",
    "# cross_validation( \"neural\", model_nn, X, Y )"
   ]
  },
  {
   "cell_type": "markdown",
   "id": "36c20f22",
   "metadata": {},
   "source": [
    "# 8.0. HYPERPARAMETER FINE TUNING"
   ]
  },
  {
   "cell_type": "code",
   "execution_count": null,
   "id": "299168c5",
   "metadata": {},
   "outputs": [],
   "source": []
  },
  {
   "cell_type": "markdown",
   "id": "19e0af81",
   "metadata": {
    "heading_collapsed": true
   },
   "source": [
    "# 9.0. BUSINESS RESULTS"
   ]
  },
  {
   "cell_type": "code",
   "execution_count": null,
   "id": "2076e786",
   "metadata": {
    "hidden": true
   },
   "outputs": [],
   "source": []
  },
  {
   "cell_type": "markdown",
   "id": "7a1e3045",
   "metadata": {},
   "source": [
    "# 10.0. DEPLOY"
   ]
  },
  {
   "cell_type": "code",
   "execution_count": null,
   "id": "3bb05149",
   "metadata": {},
   "outputs": [],
   "source": []
  }
 ],
 "metadata": {
  "kernelspec": {
   "display_name": "Python 3 (ipykernel)",
   "language": "python",
   "name": "python3"
  },
  "language_info": {
   "codemirror_mode": {
    "name": "ipython",
    "version": 3
   },
   "file_extension": ".py",
   "mimetype": "text/x-python",
   "name": "python",
   "nbconvert_exporter": "python",
   "pygments_lexer": "ipython3",
   "version": "3.8.13"
  }
 },
 "nbformat": 4,
 "nbformat_minor": 5
}
